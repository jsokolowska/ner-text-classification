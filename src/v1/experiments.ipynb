{
 "cells": [
  {
   "cell_type": "code",
   "execution_count": 1,
   "metadata": {
    "scrolled": true
   },
   "outputs": [],
   "source": [
    "import spacy\n",
    "from spacy import displacy\n",
    "\n",
    "NER = spacy.load(\"en_core_web_sm\")"
   ]
  },
  {
   "cell_type": "code",
   "execution_count": 2,
   "metadata": {},
   "outputs": [],
   "source": [
    "import pandas as pd\n",
    "\n",
    "df = pd.read_csv(\"../preprocessed_data/bbc/whole_raw.csv\")"
   ]
  },
  {
   "cell_type": "code",
   "execution_count": 3,
   "metadata": {},
   "outputs": [],
   "source": [
    "docs = [NER(text) for text in df[\"raw_text\"]]"
   ]
  },
  {
   "cell_type": "code",
   "execution_count": 4,
   "metadata": {
    "pycharm": {
     "name": "#%%\n"
    }
   },
   "outputs": [],
   "source": [
    "def _from_spacy_format(processed_examples) -> pd.DataFrame:\n",
    "    sentences = []\n",
    "    tags = []\n",
    "    for elem in processed_examples:\n",
    "        tokens = [token for token in elem]\n",
    "        labels = [\"0\" for i in range(len(tokens))]\n",
    "        for entity in elem.ents:\n",
    "            for idx in range(entity.start, entity.end):\n",
    "                labels[idx] = entity.label_\n",
    "\n",
    "        sentences.append(tokens)\n",
    "        tags.append(labels)\n",
    "    return pd.DataFrame({\"tokens\": sentences, \"tags\": tags})\n",
    "\n",
    "\n",
    "df_res = _from_spacy_format(docs)"
   ]
  },
  {
   "cell_type": "code",
   "execution_count": null,
   "metadata": {
    "pycharm": {
     "name": "#%%\n"
    }
   },
   "outputs": [],
   "source": []
  },
  {
   "cell_type": "code",
   "execution_count": null,
   "metadata": {
    "pycharm": {
     "name": "#%%\n"
    }
   },
   "outputs": [],
   "source": [
    "df_res[\"Class\"] = df[\"class\"]\n",
    "from util import save_tagged_classification\n",
    "\n",
    "save_tagged_classification(\n",
    "    df_res, \"../preprocessed_data/bbc/whole_tagged_spacy_en_core_sm.csv\"\n",
    ")"
   ]
  },
  {
   "cell_type": "code",
   "execution_count": null,
   "metadata": {
    "pycharm": {
     "name": "#%%\n"
    }
   },
   "outputs": [],
   "source": [
    "displacy.render(docs[0], style=\"ent\", jupyter=True)"
   ]
  },
  {
   "cell_type": "code",
   "execution_count": null,
   "metadata": {
    "pycharm": {
     "name": "#%%\n"
    }
   },
   "outputs": [],
   "source": [
    "df_res"
   ]
  },
  {
   "cell_type": "code",
   "execution_count": null,
   "metadata": {
    "pycharm": {
     "name": "#%%\n"
    }
   },
   "outputs": [],
   "source": [
    "tokens[3]"
   ]
  },
  {
   "cell_type": "code",
   "execution_count": null,
   "metadata": {
    "pycharm": {
     "name": "#%%\n"
    }
   },
   "outputs": [],
   "source": [
    "knn.fit(tokenized_train, sample_train[\"Class\"])\n",
    "predictions_knn = knn.predict(tokenized_test, sample_test[\"Class\"])"
   ]
  },
  {
   "cell_type": "code",
   "execution_count": null,
   "metadata": {
    "pycharm": {
     "name": "#%%\n"
    }
   },
   "outputs": [],
   "source": [
    "svc.fit(tokenized_train, sample_train[\"Class\"])\n",
    "predictions_rf = svc.predict(tokenized_test, sample_test[\"Class\"])"
   ]
  }
 ],
 "metadata": {
  "kernelspec": {
   "display_name": "Python 3",
   "language": "python",
   "name": "python3"
  },
  "language_info": {
   "codemirror_mode": {
    "name": "ipython",
    "version": 3
   },
   "file_extension": ".py",
   "mimetype": "text/x-python",
   "name": "python",
   "nbconvert_exporter": "python",
   "pygments_lexer": "ipython3",
   "version": "3.9.7"
  }
 },
 "nbformat": 4,
 "nbformat_minor": 1
}
