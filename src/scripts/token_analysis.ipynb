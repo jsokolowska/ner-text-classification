{
 "cells": [
  {
   "cell_type": "code",
   "execution_count": 5,
   "metadata": {
    "collapsed": true
   },
   "outputs": [],
   "source": [
    "from common import DATA_DIR\n",
    "import pandas as pd\n",
    "from src.representations.preprocessing import text_preprocessing\n",
    "import re\n",
    "\n",
    "df = pd.read_csv(DATA_DIR + \"\\\\preprocessing.csv\")"
   ]
  },
  {
   "cell_type": "code",
   "execution_count": 3,
   "outputs": [],
   "source": [
    "from src.representations.preprocessing import token_filter\n",
    "from src.representations import DoubleTfIdfVectorizer, SpacyNEClassifier\n",
    "\n",
    "\n",
    "def suspicious(token):\n",
    "    if type(token) != str:\n",
    "        return True\n",
    "    if token.isspace():\n",
    "        return True\n",
    "    pattern = re.compile(\"^[0-9]+(,|.)[0-9]+$\")\n",
    "    if not token.isalnum() and token not in [\"<URL>\", \"<EMOTE>\", \"<USER>\", \"<NUMBER>\"]:\n",
    "        if not re.match(pattern, token):\n",
    "            return True\n",
    "        return False\n",
    "    return False\n",
    "\n",
    "\n",
    "# ner = SpacyNEClassifier()\n",
    "# vectorizer = DoubleTfIdfVectorizer(\n",
    "# ner_clf=ner, preprocessor=text_preprocessing, token_filter=token_filter, min_df=0, max_df=1.0)\n",
    "# for idx,row in df.iterrows():\n",
    "#     res = vectorizer.preprocessing_only([row['raw_text']])\n",
    "#\n",
    "#     if any([suspicious(t) for t in res['tokens']]):\n",
    "#         print(f'Suspicious found in row {idx}')"
   ],
   "metadata": {
    "collapsed": false,
    "pycharm": {
     "name": "#%%\n"
    }
   }
  },
  {
   "cell_type": "code",
   "execution_count": 7,
   "outputs": [
    {
     "data": {
      "text/plain": "Series([], Name: tokens, dtype: int64)"
     },
     "execution_count": 7,
     "metadata": {},
     "output_type": "execute_result"
    }
   ],
   "source": [
    "msk = [suspicious(t) for t in df[\"tokens\"]]\n",
    "sub = df[msk]\n",
    "sub[\"tokens\"].value_counts()"
   ],
   "metadata": {
    "collapsed": false,
    "pycharm": {
     "name": "#%%\n"
    }
   }
  },
  {
   "cell_type": "code",
   "execution_count": 103,
   "outputs": [
    {
     "data": {
      "text/plain": "248     2206\n704     1841\n1413    1491\n112     1302\n1776    1275\n        ... \n1095      75\n1399      74\n128       73\n1602      66\n1694      64\nName: sentence #, Length: 1780, dtype: int64"
     },
     "execution_count": 103,
     "metadata": {},
     "output_type": "execute_result"
    }
   ],
   "source": [
    "df[\"sentence #\"].value_counts()"
   ],
   "metadata": {
    "collapsed": false,
    "pycharm": {
     "name": "#%%\n"
    }
   }
  },
  {
   "cell_type": "code",
   "execution_count": 90,
   "outputs": [
    {
     "data": {
      "text/plain": "<re.Match object; span=(0, 5), match='43.00'>"
     },
     "execution_count": 90,
     "metadata": {},
     "output_type": "execute_result"
    }
   ],
   "source": [
    "import re\n",
    "\n",
    "pattern = re.compile(\"^[0-9]+(,|.)[0-9]+$\")\n",
    "txt = \"43.00\"\n",
    "re.match(pattern, txt)"
   ],
   "metadata": {
    "collapsed": false,
    "pycharm": {
     "name": "#%%\n"
    }
   }
  },
  {
   "cell_type": "code",
   "execution_count": 80,
   "outputs": [
    {
     "data": {
      "text/plain": "    sentence #       tokens      tags\n0            0          oil         O\n0            0      rebound         O\n0            0      weather         O\n0            0       effect         O\n0            0          oil         O\n..         ...          ...       ...\n5            5   toulousain         O\n5            5         jean  B-PERSON\n5            5     philippe  I-PERSON\n5            5  grandclaude  I-PERSON\n5            5    perpignan         O\n\n[1262 rows x 3 columns]",
      "text/html": "<div>\n<style scoped>\n    .dataframe tbody tr th:only-of-type {\n        vertical-align: middle;\n    }\n\n    .dataframe tbody tr th {\n        vertical-align: top;\n    }\n\n    .dataframe thead th {\n        text-align: right;\n    }\n</style>\n<table border=\"1\" class=\"dataframe\">\n  <thead>\n    <tr style=\"text-align: right;\">\n      <th></th>\n      <th>sentence #</th>\n      <th>tokens</th>\n      <th>tags</th>\n    </tr>\n  </thead>\n  <tbody>\n    <tr>\n      <th>0</th>\n      <td>0</td>\n      <td>oil</td>\n      <td>O</td>\n    </tr>\n    <tr>\n      <th>0</th>\n      <td>0</td>\n      <td>rebound</td>\n      <td>O</td>\n    </tr>\n    <tr>\n      <th>0</th>\n      <td>0</td>\n      <td>weather</td>\n      <td>O</td>\n    </tr>\n    <tr>\n      <th>0</th>\n      <td>0</td>\n      <td>effect</td>\n      <td>O</td>\n    </tr>\n    <tr>\n      <th>0</th>\n      <td>0</td>\n      <td>oil</td>\n      <td>O</td>\n    </tr>\n    <tr>\n      <th>...</th>\n      <td>...</td>\n      <td>...</td>\n      <td>...</td>\n    </tr>\n    <tr>\n      <th>5</th>\n      <td>5</td>\n      <td>toulousain</td>\n      <td>O</td>\n    </tr>\n    <tr>\n      <th>5</th>\n      <td>5</td>\n      <td>jean</td>\n      <td>B-PERSON</td>\n    </tr>\n    <tr>\n      <th>5</th>\n      <td>5</td>\n      <td>philippe</td>\n      <td>I-PERSON</td>\n    </tr>\n    <tr>\n      <th>5</th>\n      <td>5</td>\n      <td>grandclaude</td>\n      <td>I-PERSON</td>\n    </tr>\n    <tr>\n      <th>5</th>\n      <td>5</td>\n      <td>perpignan</td>\n      <td>O</td>\n    </tr>\n  </tbody>\n</table>\n<p>1262 rows × 3 columns</p>\n</div>"
     },
     "execution_count": 80,
     "metadata": {},
     "output_type": "execute_result"
    }
   ],
   "source": [
    "raw = pd.read_csv(DATA_DIR + \"bbc\\\\raw.csv\")\n",
    "sentences = [\n",
    "    raw.loc[52, \"raw_text\"],\n",
    "    raw.loc[457, \"raw_text\"],\n",
    "    raw.loc[572, \"raw_text\"],\n",
    "    raw.loc[1413, \"raw_text\"],\n",
    "    raw.loc[1525, \"raw_text\"],\n",
    "    raw.loc[1773, \"raw_text\"],\n",
    "]\n",
    "\n",
    "\n",
    "ner = SpacyNEClassifier()\n",
    "vectorizer = DoubleTfIdfVectorizer(\n",
    "    ner_clf=ner,\n",
    "    preprocessor=text_preprocessing,\n",
    "    token_filter=token_filter,\n",
    "    min_df=0,\n",
    "    max_df=1.0,\n",
    ")\n",
    "\n",
    "res = vectorizer.preprocessing_only(sentences)\n",
    "msk = [suspicious(t) for t in res[\"tokens\"]]\n",
    "res[msk]"
   ],
   "metadata": {
    "collapsed": false,
    "pycharm": {
     "name": "#%%\n"
    }
   }
  },
  {
   "cell_type": "code",
   "execution_count": 81,
   "outputs": [
    {
     "data": {
      "text/plain": "   sentence #   tokens        tags\n0           0     1.33     B-MONEY\n0           0    42.12     B-MONEY\n0           0    42.30     B-MONEY\n0           0    39.20     B-MONEY\n0           0       's           O\n1           1       m.  I-QUANTITY\n1           1     28.1   B-PERCENT\n1           1       's           O\n1           1     28.9   B-PERCENT\n1           1       's           O\n2           2   50,000  I-CARDINAL\n2           2    8,000  I-CARDINAL\n2           2   108.49  B-CARDINAL\n2           2       's           O\n2           2       's           O\n2           2       's           O\n3           3       's           O\n3           3       's           O\n3           3    1.6bn     B-MONEY\n3           3       's           O\n3           3       's           O\n3           3       's           O\n4           4       's           O\n4           4       's    I-PERSON\n4           4       's           O\n4           4  550,000     I-MONEY\n4           4  292,000  B-CARDINAL\n4           4       's           O\n4           4    144.4  B-CARDINAL\n5           5       's           O\n5           5       's           O",
      "text/html": "<div>\n<style scoped>\n    .dataframe tbody tr th:only-of-type {\n        vertical-align: middle;\n    }\n\n    .dataframe tbody tr th {\n        vertical-align: top;\n    }\n\n    .dataframe thead th {\n        text-align: right;\n    }\n</style>\n<table border=\"1\" class=\"dataframe\">\n  <thead>\n    <tr style=\"text-align: right;\">\n      <th></th>\n      <th>sentence #</th>\n      <th>tokens</th>\n      <th>tags</th>\n    </tr>\n  </thead>\n  <tbody>\n    <tr>\n      <th>0</th>\n      <td>0</td>\n      <td>1.33</td>\n      <td>B-MONEY</td>\n    </tr>\n    <tr>\n      <th>0</th>\n      <td>0</td>\n      <td>42.12</td>\n      <td>B-MONEY</td>\n    </tr>\n    <tr>\n      <th>0</th>\n      <td>0</td>\n      <td>42.30</td>\n      <td>B-MONEY</td>\n    </tr>\n    <tr>\n      <th>0</th>\n      <td>0</td>\n      <td>39.20</td>\n      <td>B-MONEY</td>\n    </tr>\n    <tr>\n      <th>0</th>\n      <td>0</td>\n      <td>'s</td>\n      <td>O</td>\n    </tr>\n    <tr>\n      <th>1</th>\n      <td>1</td>\n      <td>m.</td>\n      <td>I-QUANTITY</td>\n    </tr>\n    <tr>\n      <th>1</th>\n      <td>1</td>\n      <td>28.1</td>\n      <td>B-PERCENT</td>\n    </tr>\n    <tr>\n      <th>1</th>\n      <td>1</td>\n      <td>'s</td>\n      <td>O</td>\n    </tr>\n    <tr>\n      <th>1</th>\n      <td>1</td>\n      <td>28.9</td>\n      <td>B-PERCENT</td>\n    </tr>\n    <tr>\n      <th>1</th>\n      <td>1</td>\n      <td>'s</td>\n      <td>O</td>\n    </tr>\n    <tr>\n      <th>2</th>\n      <td>2</td>\n      <td>50,000</td>\n      <td>I-CARDINAL</td>\n    </tr>\n    <tr>\n      <th>2</th>\n      <td>2</td>\n      <td>8,000</td>\n      <td>I-CARDINAL</td>\n    </tr>\n    <tr>\n      <th>2</th>\n      <td>2</td>\n      <td>108.49</td>\n      <td>B-CARDINAL</td>\n    </tr>\n    <tr>\n      <th>2</th>\n      <td>2</td>\n      <td>'s</td>\n      <td>O</td>\n    </tr>\n    <tr>\n      <th>2</th>\n      <td>2</td>\n      <td>'s</td>\n      <td>O</td>\n    </tr>\n    <tr>\n      <th>2</th>\n      <td>2</td>\n      <td>'s</td>\n      <td>O</td>\n    </tr>\n    <tr>\n      <th>3</th>\n      <td>3</td>\n      <td>'s</td>\n      <td>O</td>\n    </tr>\n    <tr>\n      <th>3</th>\n      <td>3</td>\n      <td>'s</td>\n      <td>O</td>\n    </tr>\n    <tr>\n      <th>3</th>\n      <td>3</td>\n      <td>1.6bn</td>\n      <td>B-MONEY</td>\n    </tr>\n    <tr>\n      <th>3</th>\n      <td>3</td>\n      <td>'s</td>\n      <td>O</td>\n    </tr>\n    <tr>\n      <th>3</th>\n      <td>3</td>\n      <td>'s</td>\n      <td>O</td>\n    </tr>\n    <tr>\n      <th>3</th>\n      <td>3</td>\n      <td>'s</td>\n      <td>O</td>\n    </tr>\n    <tr>\n      <th>4</th>\n      <td>4</td>\n      <td>'s</td>\n      <td>O</td>\n    </tr>\n    <tr>\n      <th>4</th>\n      <td>4</td>\n      <td>'s</td>\n      <td>I-PERSON</td>\n    </tr>\n    <tr>\n      <th>4</th>\n      <td>4</td>\n      <td>'s</td>\n      <td>O</td>\n    </tr>\n    <tr>\n      <th>4</th>\n      <td>4</td>\n      <td>550,000</td>\n      <td>I-MONEY</td>\n    </tr>\n    <tr>\n      <th>4</th>\n      <td>4</td>\n      <td>292,000</td>\n      <td>B-CARDINAL</td>\n    </tr>\n    <tr>\n      <th>4</th>\n      <td>4</td>\n      <td>'s</td>\n      <td>O</td>\n    </tr>\n    <tr>\n      <th>4</th>\n      <td>4</td>\n      <td>144.4</td>\n      <td>B-CARDINAL</td>\n    </tr>\n    <tr>\n      <th>5</th>\n      <td>5</td>\n      <td>'s</td>\n      <td>O</td>\n    </tr>\n    <tr>\n      <th>5</th>\n      <td>5</td>\n      <td>'s</td>\n      <td>O</td>\n    </tr>\n  </tbody>\n</table>\n</div>"
     },
     "execution_count": 81,
     "metadata": {},
     "output_type": "execute_result"
    }
   ],
   "source": [
    "msk = [suspicious(t) for t in res[\"tokens\"]]\n",
    "res[msk]"
   ],
   "metadata": {
    "collapsed": false,
    "pycharm": {
     "name": "#%%\n"
    }
   }
  },
  {
   "cell_type": "code",
   "execution_count": 56,
   "outputs": [
    {
     "data": {
      "text/plain": "[' ',\n ' ',\n ' ',\n ' ',\n ' ',\n ' ',\n ' ',\n ' ',\n ' ',\n ' ',\n ' ',\n ' ',\n ' ',\n ' ',\n ' ',\n ' ',\n ' ',\n ' ',\n ' ',\n ' ',\n ' ',\n ' ',\n ' ',\n ' ',\n ' ',\n ' ',\n ' ',\n ' ',\n ' ',\n ' ',\n ' ',\n ' ',\n ' ',\n ' ',\n ' ',\n ' ',\n ' ',\n ' ']"
     },
     "execution_count": 56,
     "metadata": {},
     "output_type": "execute_result"
    }
   ],
   "source": [
    "suspicous = []\n",
    "for value in df[\"tokens\"].values:\n",
    "    if not type(value) is str or not value.isalnum():\n",
    "        suspicous.append(value)\n",
    "suspicous"
   ],
   "metadata": {
    "collapsed": false,
    "pycharm": {
     "name": "#%%\n"
    }
   }
  },
  {
   "cell_type": "code",
   "execution_count": 57,
   "outputs": [
    {
     "data": {
      "text/plain": "[]"
     },
     "execution_count": 57,
     "metadata": {},
     "output_type": "execute_result"
    }
   ],
   "source": [
    "other = []\n",
    "for s in suspicous:\n",
    "    if type(s) != str:\n",
    "        print(f\"{s}- {type(s)}\")\n",
    "        continue\n",
    "    if s.isspace():\n",
    "        continue\n",
    "    other.append(s)\n",
    "other"
   ],
   "metadata": {
    "collapsed": false,
    "pycharm": {
     "name": "#%%\n"
    }
   }
  },
  {
   "cell_type": "code",
   "execution_count": 58,
   "outputs": [
    {
     "data": {
      "text/plain": "False"
     },
     "execution_count": 58,
     "metadata": {},
     "output_type": "execute_result"
    }
   ],
   "source": [
    "\"<URL>\" in df[\"tokens\"].values"
   ],
   "metadata": {
    "collapsed": false,
    "pycharm": {
     "name": "#%%\n"
    }
   }
  },
  {
   "cell_type": "code",
   "execution_count": 59,
   "outputs": [
    {
     "data": {
      "text/plain": "38"
     },
     "execution_count": 59,
     "metadata": {},
     "output_type": "execute_result"
    }
   ],
   "source": [
    "len(suspicous)"
   ],
   "metadata": {
    "collapsed": false,
    "pycharm": {
     "name": "#%%\n"
    }
   }
  },
  {
   "cell_type": "code",
   "execution_count": 52,
   "outputs": [],
   "source": [
    "# todo replace numeric tokens with number  [Implemented]\n",
    "# todo find out why we have whitespace tokens in ag news\n",
    "# todo investigate nan tokens in bbc '\\x01' and '\\x10own' and in imdb\n",
    "# todo why disaster has 5 rows only???\n",
    "# todo special tags removed? f.e. no user tags in disasters - and they should be there"
   ],
   "metadata": {
    "collapsed": false,
    "pycharm": {
     "name": "#%%\n"
    }
   }
  },
  {
   "cell_type": "code",
   "execution_count": null,
   "outputs": [],
   "source": [],
   "metadata": {
    "collapsed": false,
    "pycharm": {
     "name": "#%%\n"
    }
   }
  }
 ],
 "metadata": {
  "kernelspec": {
   "display_name": "Python 3",
   "language": "python",
   "name": "python3"
  },
  "language_info": {
   "codemirror_mode": {
    "name": "ipython",
    "version": 2
   },
   "file_extension": ".py",
   "mimetype": "text/x-python",
   "name": "python",
   "nbconvert_exporter": "python",
   "pygments_lexer": "ipython2",
   "version": "2.7.6"
  }
 },
 "nbformat": 4,
 "nbformat_minor": 0
}