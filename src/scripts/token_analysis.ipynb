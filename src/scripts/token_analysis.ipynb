{
 "cells": [
  {
   "cell_type": "code",
   "execution_count": 14,
   "metadata": {
    "collapsed": true
   },
   "outputs": [],
   "source": [
    "from common import *\n",
    "import pandas as pd\n",
    "from scipy.sparse import save_npz, load_npz\n",
    "from src.representations import DoubleTfIdfVectorizer, SpacyNEClassifier\n",
    "import os\n"
   ]
  },
  {
   "cell_type": "code",
   "execution_count": 9,
   "outputs": [],
   "source": [
    "def load_raw(data: Dataset, name):\n",
    "    return pd.read_csv(DATA_DIR + data.value + \"\\\\raw\\\\\" + name + \".csv\", nrows = 20)"
   ],
   "metadata": {
    "collapsed": false,
    "pycharm": {
     "name": "#%%\n"
    }
   }
  },
  {
   "cell_type": "code",
   "execution_count": 10,
   "outputs": [],
   "source": [
    "ner = SpacyNEClassifier()\n",
    "double_vect = DoubleTfIdfVectorizer(ner_clf=ner, min_df=1,\n",
    "        max_df=20)\n",
    "df = load_raw(Dataset.BBC, \"train\")\n",
    "\n",
    "res = double_vect.fit_transform(df['text'])"
   ],
   "metadata": {
    "collapsed": false,
    "pycharm": {
     "name": "#%%\n"
    }
   }
  },
  {
   "cell_type": "code",
   "execution_count": 11,
   "outputs": [],
   "source": [
    "save_npz(DATA_DIR + \"npz-try.npz\", res)\n"
   ],
   "metadata": {
    "collapsed": false,
    "pycharm": {
     "name": "#%%\n"
    }
   }
  },
  {
   "cell_type": "code",
   "execution_count": 12,
   "outputs": [],
   "source": [
    "columns_df = pd.DataFrame({'col': double_vect.get_feature_names()})\n",
    "columns_df.to_csv(DATA_DIR+ \"npz-column.csv\", index = False)"
   ],
   "metadata": {
    "collapsed": false,
    "pycharm": {
     "name": "#%%\n"
    }
   }
  },
  {
   "cell_type": "code",
   "execution_count": 17,
   "outputs": [],
   "source": [
    "def save_as_npz (dataset: Dataset, state: State, name, vectorizer, df_raw: pd.DataFrame, sp_array):\n",
    "    save_npz(DATA_DIR + dataset.value + \"\\\\\" + state.value + \"\\\\\" + \"array-\" + name + \".npz\", sp_array)\n",
    "    df_raw[\"target\"].to_csv(DATA_DIR + dataset.value + \"\\\\\" + state.value + \"\\\\\" + \"target-\" + name + \".csv\", index=False)\n",
    "    validate_or_save_columns(dataset, state, vectorizer)\n",
    "\n",
    "def validate_or_save_columns (dataset: Dataset, state: State, vectorizer):\n",
    "    name = DATA_DIR + dataset.value + \"\\\\\" + state.value + \"\\\\columns.csv\"\n",
    "    col_df = pd.DataFrame({\"columns\": vectorizer.get_feature_names()})\n",
    "    if os.path.exists(name):\n",
    "        cols = pd.read_csv(name)\n",
    "        assert cols.shape == col_df.shape\n",
    "    else:\n",
    "        col_df.to_csv(name, index = False)\n",
    "\n",
    "def read_as_dataframe(dataset: Dataset, state: State, name):\n",
    "    data_dir = DATA_DIR + dataset.value + \"\\\\\" + state.value + \"\\\\\"\n",
    "    sp_array = load_npz(data_dir + \"array-\" + name + \".npz\" )\n",
    "    cols = pd.read_csv(data_dir + \"columns.csv\")\n",
    "    target = pd.read_csv(data_dir +  \"target-\" + name + \".csv\")\n",
    "\n",
    "    # sanity check\n",
    "    assert len(cols) == sp_array.shape[1]\n",
    "    assert len(target) == sp_array.shape[0]\n",
    "    df = pd.DataFrame(sp_array.toarray(), columns=cols['columns'])\n",
    "    df['TARGET'] = target['target']\n",
    "    return df\n"
   ],
   "metadata": {
    "collapsed": false,
    "pycharm": {
     "name": "#%%\n"
    }
   }
  },
  {
   "cell_type": "code",
   "execution_count": 18,
   "outputs": [],
   "source": [
    "save_as_npz(Dataset.AG_NEWS, State.BIO, \"test-save-npz\",double_vect, df, res)\n",
    "read_as_dataframe(Dataset.AG_NEWS, State.BIO, \"test-save-npz\")"
   ],
   "metadata": {
    "collapsed": false,
    "pycharm": {
     "name": "#%%\n"
    }
   }
  },
  {
   "cell_type": "markdown",
   "source": [],
   "metadata": {
    "collapsed": false
   }
  },
  {
   "cell_type": "code",
   "execution_count": 20,
   "outputs": [
    {
     "data": {
      "text/plain": "columns     offer     video    demand   service  programme        tv  \\\n0       -0.069626 -0.078256 -0.071983 -0.052171  -0.057441 -0.069316   \n1        0.000000  0.000000  0.000000  0.000000   0.000000  0.000000   \n2        0.000000  0.000000  0.000000  0.000000   0.000000  0.000000   \n3        0.000000  0.000000  0.000000  0.000000   0.000000  0.000000   \n4       -0.006573  0.000000  0.000000  0.000000   0.000000  0.000000   \n\ncolumns    sky_NE  telewest_NE    pvr_NE     cable  ...  dispute  radio_NE  \\\n0       -0.067801    -0.067801 -0.067801 -0.067501  ...      0.0       0.0   \n1        0.000000     0.000000  0.000000  0.000000  ...      0.0       0.0   \n2        0.000000     0.000000  0.000000  0.000000  ...      0.0       0.0   \n3        0.000000     0.000000  0.000000  0.000000  ...      0.0       0.0   \n4        0.000000     0.000000  0.000000  0.000000  ...      0.0       0.0   \n\ncolumns  spectator  butt  bigley_NE  edit  yes  angry  semitic_NE  \\\n0              0.0   0.0        0.0   0.0  0.0    0.0         0.0   \n1              0.0   0.0        0.0   0.0  0.0    0.0         0.0   \n2              0.0   0.0        0.0   0.0  0.0    0.0         0.0   \n3              0.0   0.0        0.0   0.0  0.0    0.0         0.0   \n4              0.0   0.0        0.0   0.0  0.0    0.0         0.0   \n\ncolumns         TARGET  \n0                 tech  \n1             politics  \n2                sport  \n3                 tech  \n4        entertainment  \n\n[5 rows x 2027 columns]",
      "text/html": "<div>\n<style scoped>\n    .dataframe tbody tr th:only-of-type {\n        vertical-align: middle;\n    }\n\n    .dataframe tbody tr th {\n        vertical-align: top;\n    }\n\n    .dataframe thead th {\n        text-align: right;\n    }\n</style>\n<table border=\"1\" class=\"dataframe\">\n  <thead>\n    <tr style=\"text-align: right;\">\n      <th>columns</th>\n      <th>offer</th>\n      <th>video</th>\n      <th>demand</th>\n      <th>service</th>\n      <th>programme</th>\n      <th>tv</th>\n      <th>sky_NE</th>\n      <th>telewest_NE</th>\n      <th>pvr_NE</th>\n      <th>cable</th>\n      <th>...</th>\n      <th>dispute</th>\n      <th>radio_NE</th>\n      <th>spectator</th>\n      <th>butt</th>\n      <th>bigley_NE</th>\n      <th>edit</th>\n      <th>yes</th>\n      <th>angry</th>\n      <th>semitic_NE</th>\n      <th>TARGET</th>\n    </tr>\n  </thead>\n  <tbody>\n    <tr>\n      <th>0</th>\n      <td>-0.069626</td>\n      <td>-0.078256</td>\n      <td>-0.071983</td>\n      <td>-0.052171</td>\n      <td>-0.057441</td>\n      <td>-0.069316</td>\n      <td>-0.067801</td>\n      <td>-0.067801</td>\n      <td>-0.067801</td>\n      <td>-0.067501</td>\n      <td>...</td>\n      <td>0.0</td>\n      <td>0.0</td>\n      <td>0.0</td>\n      <td>0.0</td>\n      <td>0.0</td>\n      <td>0.0</td>\n      <td>0.0</td>\n      <td>0.0</td>\n      <td>0.0</td>\n      <td>tech</td>\n    </tr>\n    <tr>\n      <th>1</th>\n      <td>0.000000</td>\n      <td>0.000000</td>\n      <td>0.000000</td>\n      <td>0.000000</td>\n      <td>0.000000</td>\n      <td>0.000000</td>\n      <td>0.000000</td>\n      <td>0.000000</td>\n      <td>0.000000</td>\n      <td>0.000000</td>\n      <td>...</td>\n      <td>0.0</td>\n      <td>0.0</td>\n      <td>0.0</td>\n      <td>0.0</td>\n      <td>0.0</td>\n      <td>0.0</td>\n      <td>0.0</td>\n      <td>0.0</td>\n      <td>0.0</td>\n      <td>politics</td>\n    </tr>\n    <tr>\n      <th>2</th>\n      <td>0.000000</td>\n      <td>0.000000</td>\n      <td>0.000000</td>\n      <td>0.000000</td>\n      <td>0.000000</td>\n      <td>0.000000</td>\n      <td>0.000000</td>\n      <td>0.000000</td>\n      <td>0.000000</td>\n      <td>0.000000</td>\n      <td>...</td>\n      <td>0.0</td>\n      <td>0.0</td>\n      <td>0.0</td>\n      <td>0.0</td>\n      <td>0.0</td>\n      <td>0.0</td>\n      <td>0.0</td>\n      <td>0.0</td>\n      <td>0.0</td>\n      <td>sport</td>\n    </tr>\n    <tr>\n      <th>3</th>\n      <td>0.000000</td>\n      <td>0.000000</td>\n      <td>0.000000</td>\n      <td>0.000000</td>\n      <td>0.000000</td>\n      <td>0.000000</td>\n      <td>0.000000</td>\n      <td>0.000000</td>\n      <td>0.000000</td>\n      <td>0.000000</td>\n      <td>...</td>\n      <td>0.0</td>\n      <td>0.0</td>\n      <td>0.0</td>\n      <td>0.0</td>\n      <td>0.0</td>\n      <td>0.0</td>\n      <td>0.0</td>\n      <td>0.0</td>\n      <td>0.0</td>\n      <td>tech</td>\n    </tr>\n    <tr>\n      <th>4</th>\n      <td>-0.006573</td>\n      <td>0.000000</td>\n      <td>0.000000</td>\n      <td>0.000000</td>\n      <td>0.000000</td>\n      <td>0.000000</td>\n      <td>0.000000</td>\n      <td>0.000000</td>\n      <td>0.000000</td>\n      <td>0.000000</td>\n      <td>...</td>\n      <td>0.0</td>\n      <td>0.0</td>\n      <td>0.0</td>\n      <td>0.0</td>\n      <td>0.0</td>\n      <td>0.0</td>\n      <td>0.0</td>\n      <td>0.0</td>\n      <td>0.0</td>\n      <td>entertainment</td>\n    </tr>\n  </tbody>\n</table>\n<p>5 rows × 2027 columns</p>\n</div>"
     },
     "execution_count": 20,
     "metadata": {},
     "output_type": "execute_result"
    }
   ],
   "source": [
    "df2 = read_as_dataframe(Dataset.AG_NEWS, State.BIO, \"test-save-npz\")\n",
    "\n",
    "print(df2.head())"
   ],
   "metadata": {
    "collapsed": false,
    "pycharm": {
     "name": "#%%\n"
    }
   }
  },
  {
   "cell_type": "code",
   "execution_count": 22,
   "outputs": [
    {
     "data": {
      "text/plain": "Index(['offer', 'video', 'demand', 'service', 'programme', 'tv', 'sky_NE',\n       'telewest_NE', 'pvr_NE', 'cable',\n       ...\n       'dispute', 'radio_NE', 'spectator', 'butt', 'bigley_NE', 'edit', 'yes',\n       'angry', 'semitic_NE', 'TARGET'],\n      dtype='object', name='columns', length=2027)"
     },
     "execution_count": 22,
     "metadata": {},
     "output_type": "execute_result"
    }
   ],
   "source": [
    "df2.columns"
   ],
   "metadata": {
    "collapsed": false,
    "pycharm": {
     "name": "#%%\n"
    }
   }
  },
  {
   "cell_type": "code",
   "execution_count": 58,
   "outputs": [
    {
     "data": {
      "text/plain": "False"
     },
     "execution_count": 58,
     "metadata": {},
     "output_type": "execute_result"
    }
   ],
   "source": [],
   "metadata": {
    "collapsed": false,
    "pycharm": {
     "name": "#%%\n"
    }
   }
  },
  {
   "cell_type": "code",
   "execution_count": 59,
   "outputs": [
    {
     "data": {
      "text/plain": "38"
     },
     "execution_count": 59,
     "metadata": {},
     "output_type": "execute_result"
    }
   ],
   "source": [],
   "metadata": {
    "collapsed": false,
    "pycharm": {
     "name": "#%%\n"
    }
   }
  },
  {
   "cell_type": "code",
   "execution_count": 52,
   "outputs": [],
   "source": [],
   "metadata": {
    "collapsed": false,
    "pycharm": {
     "name": "#%%\n"
    }
   }
  },
  {
   "cell_type": "code",
   "execution_count": null,
   "outputs": [],
   "source": [],
   "metadata": {
    "collapsed": false,
    "pycharm": {
     "name": "#%%\n"
    }
   }
  }
 ],
 "metadata": {
  "kernelspec": {
   "display_name": "Python 3",
   "language": "python",
   "name": "python3"
  },
  "language_info": {
   "codemirror_mode": {
    "name": "ipython",
    "version": 2
   },
   "file_extension": ".py",
   "mimetype": "text/x-python",
   "name": "python",
   "nbconvert_exporter": "python",
   "pygments_lexer": "ipython2",
   "version": "2.7.6"
  }
 },
 "nbformat": 4,
 "nbformat_minor": 0
}