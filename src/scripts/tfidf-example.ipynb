{
 "cells": [
  {
   "cell_type": "code",
   "execution_count": 33,
   "metadata": {
    "collapsed": true
   },
   "outputs": [],
   "source": [
    "import numpy as np\n",
    "\n",
    "from src.scripts.common import *\n",
    "import pandas as pd\n",
    "from sklearn.feature_extraction.text import TfidfVectorizer, CountVectorizer"
   ]
  },
  {
   "cell_type": "code",
   "execution_count": 45,
   "outputs": [
    {
     "data": {
      "text/plain": "         00        000  0001  000bn  000m  000s  000th  001  001and  001st  \\\n0  0.000000   0.000000   0.0    0.0   0.0   0.0    0.0  0.0     0.0    0.0   \n1  0.000000   0.000000   0.0    0.0   0.0   0.0    0.0  0.0     0.0    0.0   \n2  0.000000   0.000000   0.0    0.0   0.0   0.0    0.0  0.0     0.0    0.0   \n3  0.000000   0.000000   0.0    0.0   0.0   0.0    0.0  0.0     0.0    0.0   \n4  6.693171  17.595679   0.0    0.0   0.0   0.0    0.0  0.0     0.0    0.0   \n\n   ...  zoom  zooms  zooropa  zornotza  zubair  zuluaga  zurich  zutons  \\\n0  ...   0.0    0.0      0.0       0.0     0.0      0.0     0.0     0.0   \n1  ...   0.0    0.0      0.0       0.0     0.0      0.0     0.0     0.0   \n2  ...   0.0    0.0      0.0       0.0     0.0      0.0     0.0     0.0   \n3  ...   0.0    0.0      0.0       0.0     0.0      0.0     0.0     0.0   \n4  ...   0.0    0.0      0.0       0.0     0.0      0.0     0.0     0.0   \n\n   zvonareva  zvyagintsev  \n0        0.0          0.0  \n1        0.0          0.0  \n2        0.0          0.0  \n3        0.0          0.0  \n4        0.0          0.0  \n\n[5 rows x 26895 columns]",
      "text/html": "<div>\n<style scoped>\n    .dataframe tbody tr th:only-of-type {\n        vertical-align: middle;\n    }\n\n    .dataframe tbody tr th {\n        vertical-align: top;\n    }\n\n    .dataframe thead th {\n        text-align: right;\n    }\n</style>\n<table border=\"1\" class=\"dataframe\">\n  <thead>\n    <tr style=\"text-align: right;\">\n      <th></th>\n      <th>00</th>\n      <th>000</th>\n      <th>0001</th>\n      <th>000bn</th>\n      <th>000m</th>\n      <th>000s</th>\n      <th>000th</th>\n      <th>001</th>\n      <th>001and</th>\n      <th>001st</th>\n      <th>...</th>\n      <th>zoom</th>\n      <th>zooms</th>\n      <th>zooropa</th>\n      <th>zornotza</th>\n      <th>zubair</th>\n      <th>zuluaga</th>\n      <th>zurich</th>\n      <th>zutons</th>\n      <th>zvonareva</th>\n      <th>zvyagintsev</th>\n    </tr>\n  </thead>\n  <tbody>\n    <tr>\n      <th>0</th>\n      <td>0.000000</td>\n      <td>0.000000</td>\n      <td>0.0</td>\n      <td>0.0</td>\n      <td>0.0</td>\n      <td>0.0</td>\n      <td>0.0</td>\n      <td>0.0</td>\n      <td>0.0</td>\n      <td>0.0</td>\n      <td>...</td>\n      <td>0.0</td>\n      <td>0.0</td>\n      <td>0.0</td>\n      <td>0.0</td>\n      <td>0.0</td>\n      <td>0.0</td>\n      <td>0.0</td>\n      <td>0.0</td>\n      <td>0.0</td>\n      <td>0.0</td>\n    </tr>\n    <tr>\n      <th>1</th>\n      <td>0.000000</td>\n      <td>0.000000</td>\n      <td>0.0</td>\n      <td>0.0</td>\n      <td>0.0</td>\n      <td>0.0</td>\n      <td>0.0</td>\n      <td>0.0</td>\n      <td>0.0</td>\n      <td>0.0</td>\n      <td>...</td>\n      <td>0.0</td>\n      <td>0.0</td>\n      <td>0.0</td>\n      <td>0.0</td>\n      <td>0.0</td>\n      <td>0.0</td>\n      <td>0.0</td>\n      <td>0.0</td>\n      <td>0.0</td>\n      <td>0.0</td>\n    </tr>\n    <tr>\n      <th>2</th>\n      <td>0.000000</td>\n      <td>0.000000</td>\n      <td>0.0</td>\n      <td>0.0</td>\n      <td>0.0</td>\n      <td>0.0</td>\n      <td>0.0</td>\n      <td>0.0</td>\n      <td>0.0</td>\n      <td>0.0</td>\n      <td>...</td>\n      <td>0.0</td>\n      <td>0.0</td>\n      <td>0.0</td>\n      <td>0.0</td>\n      <td>0.0</td>\n      <td>0.0</td>\n      <td>0.0</td>\n      <td>0.0</td>\n      <td>0.0</td>\n      <td>0.0</td>\n    </tr>\n    <tr>\n      <th>3</th>\n      <td>0.000000</td>\n      <td>0.000000</td>\n      <td>0.0</td>\n      <td>0.0</td>\n      <td>0.0</td>\n      <td>0.0</td>\n      <td>0.0</td>\n      <td>0.0</td>\n      <td>0.0</td>\n      <td>0.0</td>\n      <td>...</td>\n      <td>0.0</td>\n      <td>0.0</td>\n      <td>0.0</td>\n      <td>0.0</td>\n      <td>0.0</td>\n      <td>0.0</td>\n      <td>0.0</td>\n      <td>0.0</td>\n      <td>0.0</td>\n      <td>0.0</td>\n    </tr>\n    <tr>\n      <th>4</th>\n      <td>6.693171</td>\n      <td>17.595679</td>\n      <td>0.0</td>\n      <td>0.0</td>\n      <td>0.0</td>\n      <td>0.0</td>\n      <td>0.0</td>\n      <td>0.0</td>\n      <td>0.0</td>\n      <td>0.0</td>\n      <td>...</td>\n      <td>0.0</td>\n      <td>0.0</td>\n      <td>0.0</td>\n      <td>0.0</td>\n      <td>0.0</td>\n      <td>0.0</td>\n      <td>0.0</td>\n      <td>0.0</td>\n      <td>0.0</td>\n      <td>0.0</td>\n    </tr>\n  </tbody>\n</table>\n<p>5 rows × 26895 columns</p>\n</div>"
     },
     "execution_count": 45,
     "metadata": {},
     "output_type": "execute_result"
    }
   ],
   "source": [
    "df = load_raw(Dataset.BBC, \"train\")\n",
    "\n",
    "vect = TfidfVectorizer(norm=None)\n",
    "transfomed = vect.fit_transform(df[TEXT_COL])\n",
    "\n",
    "df_trans = pd.DataFrame(transfomed.toarray(), columns = vect.get_feature_names())\n",
    "df_trans.head()"
   ],
   "metadata": {
    "collapsed": false,
    "pycharm": {
     "name": "#%%\n"
    }
   }
  },
  {
   "cell_type": "code",
   "execution_count": 21,
   "outputs": [
    {
     "data": {
      "text/plain": "target                                                sport\ntext      Liverpool revel in night of glory Liverpool ma...\nName: 12, dtype: object"
     },
     "execution_count": 21,
     "metadata": {},
     "output_type": "execute_result"
    }
   ],
   "source": [
    "df.iloc[12]"
   ],
   "metadata": {
    "collapsed": false,
    "pycharm": {
     "name": "#%%\n"
    }
   }
  },
  {
   "cell_type": "code",
   "execution_count": 22,
   "outputs": [
    {
     "data": {
      "text/plain": "00             0.0\n000            0.0\n0001           0.0\n000bn          0.0\n000m           0.0\n              ... \nzuluaga        0.0\nzurich         0.0\nzutons         0.0\nzvonareva      0.0\nzvyagintsev    0.0\nName: 12, Length: 26895, dtype: float64"
     },
     "execution_count": 22,
     "metadata": {},
     "output_type": "execute_result"
    }
   ],
   "source": [
    "example = df_trans.iloc[12]\n",
    "example"
   ],
   "metadata": {
    "collapsed": false,
    "pycharm": {
     "name": "#%%\n"
    }
   }
  },
  {
   "cell_type": "code",
   "execution_count": 23,
   "outputs": [
    {
     "data": {
      "text/plain": "the          23.000000\ngerrard      22.849366\nliverpool    18.989043\nbenitez      17.759943\nchampions    12.978142\n               ...    \nalso          1.569207\nfrom          1.342894\nbut           1.314042\nbe            1.252920\nwith          1.185809\nName: 12, Length: 162, dtype: float64"
     },
     "execution_count": 23,
     "metadata": {},
     "output_type": "execute_result"
    }
   ],
   "source": [
    "ind_nz = example.to_numpy().nonzero()\n",
    "nonzero_features = example.iloc[ind_nz].sort_values(ascending=False)\n",
    "nonzero_features"
   ],
   "metadata": {
    "collapsed": false,
    "pycharm": {
     "name": "#%%\n"
    }
   }
  },
  {
   "cell_type": "code",
   "execution_count": 41,
   "outputs": [
    {
     "data": {
      "text/plain": "the        23.0\nto          9.0\nfor         8.0\nof          8.0\nand         7.0\n           ... \nlying       1.0\nlosing      1.0\nachieve     1.0\nlike        1.0\n20          1.0\nName: 12, Length: 162, dtype: float64"
     },
     "execution_count": 41,
     "metadata": {},
     "output_type": "execute_result"
    }
   ],
   "source": [
    "vect = TfidfVectorizer(norm=None, use_idf=False)\n",
    "transfomed = vect.fit_transform(df[TEXT_COL])\n",
    "\n",
    "df_trans_tf = pd.DataFrame(transfomed.toarray(), columns = vect.get_feature_names())\n",
    "example_idf = df_trans_tf.iloc[12]\n",
    "ind_nz_tf = example_idf.to_numpy().nonzero()\n",
    "nonzero_tf = example_idf.iloc[ind_nz_tf].sort_values(ascending=False)\n",
    "nonzero_tf"
   ],
   "metadata": {
    "collapsed": false,
    "pycharm": {
     "name": "#%%\n"
    }
   }
  },
  {
   "cell_type": "code",
   "execution_count": 29,
   "outputs": [
    {
     "data": {
      "text/plain": "2.0"
     },
     "execution_count": 29,
     "metadata": {},
     "output_type": "execute_result"
    }
   ],
   "source": [
    "nonzero_tf['strike']"
   ],
   "metadata": {
    "collapsed": false,
    "pycharm": {
     "name": "#%%\n"
    }
   }
  },
  {
   "cell_type": "code",
   "execution_count": 31,
   "outputs": [
    {
     "data": {
      "text/plain": "(1780, 2)"
     },
     "execution_count": 31,
     "metadata": {},
     "output_type": "execute_result"
    }
   ],
   "source": [
    "df.shape"
   ],
   "metadata": {
    "collapsed": false,
    "pycharm": {
     "name": "#%%\n"
    }
   }
  },
  {
   "cell_type": "code",
   "execution_count": 48,
   "outputs": [
    {
     "name": "stdout",
     "output_type": "stream",
     "text": [
      "liverpool & 0.013245033112582781 &3.7472606650062934 & 0.04963259158948733\n",
      "strike & 0.006622516556291391 &4.189093417285332 & 0.027742340511823393\n",
      "caught & 0.006622516556291391 &4.22683374526818 & 0.027992276458729665\n",
      "admitted & 0.0033112582781456954 &2.8999628046190895 & 0.009602525843109567\n",
      "is & 0.006622516556291391 &0.13827512011312287 & 0.000915729272272337\n",
      "the & 0.076158940397351 &0.0 & 0.0\n"
     ]
    }
   ],
   "source": [
    "import numpy as np\n",
    "f_names = {\"liverpool\": 4, \"strike\":2, \"caught\":2,\"admitted\":1,\"is\":2, \"the\": 23}\n",
    "#calc idf\n",
    "for f,value in f_names.items():\n",
    "    no_doc_cont_feature = (df_trans_tf[f] != 0).sum()\n",
    "    total_terms_in_doc = 302\n",
    "    tf = value/total_terms_in_doc\n",
    "    idf = np.log((1+1780)/(1 + no_doc_cont_feature))\n",
    "    print(f\"{f} & {tf} &{idf} & {tf*idf}\")\n"
   ],
   "metadata": {
    "collapsed": false,
    "pycharm": {
     "name": "#%%\n"
    }
   }
  },
  {
   "cell_type": "code",
   "execution_count": 47,
   "outputs": [
    {
     "data": {
      "text/plain": "liverpool    18.989043\nstrike       10.378187\ncaught       10.453667\nadmitted      3.899963\nis            2.276550\nthe          23.000000\nName: 12, dtype: float64"
     },
     "execution_count": 47,
     "metadata": {},
     "output_type": "execute_result"
    }
   ],
   "source": [
    "df_trans.iloc[12][[\"liverpool\", \"strike\",\"caught\", \"admitted\",\"is\",\"the\"]]"
   ],
   "metadata": {
    "collapsed": false,
    "pycharm": {
     "name": "#%%\n"
    }
   }
  },
  {
   "cell_type": "code",
   "execution_count": 34,
   "outputs": [
    {
     "data": {
      "text/plain": "00             0\n000            0\n0001           0\n000bn          0\n000m           0\n              ..\nzuluaga        0\nzurich         0\nzutons         0\nzvonareva      0\nzvyagintsev    0\nName: 12, Length: 26895, dtype: int64"
     },
     "execution_count": 34,
     "metadata": {},
     "output_type": "execute_result"
    }
   ],
   "source": [
    "df = load_raw(Dataset.BBC, \"train\")\n",
    "\n",
    "vect = CountVectorizer()\n",
    "transfomed = vect.fit_transform(df[TEXT_COL])\n",
    "\n",
    "df_trans = pd.DataFrame(transfomed.toarray(), columns = vect.get_feature_names())\n",
    "df_trans.iloc[12].sum()"
   ],
   "metadata": {
    "collapsed": false,
    "pycharm": {
     "name": "#%%\n"
    }
   }
  },
  {
   "cell_type": "code",
   "execution_count": 38,
   "outputs": [
    {
     "data": {
      "text/plain": "302"
     },
     "execution_count": 38,
     "metadata": {},
     "output_type": "execute_result"
    }
   ],
   "source": [
    "\n",
    "nonzero_count = df_trans.iloc[12].iloc[df_trans.iloc[12].to_numpy().nonzero()].sort_values(ascending=False)\n",
    "nonzero_count.sum()"
   ],
   "metadata": {
    "collapsed": false,
    "pycharm": {
     "name": "#%%\n"
    }
   }
  }
 ],
 "metadata": {
  "kernelspec": {
   "display_name": "Python 3",
   "language": "python",
   "name": "python3"
  },
  "language_info": {
   "codemirror_mode": {
    "name": "ipython",
    "version": 2
   },
   "file_extension": ".py",
   "mimetype": "text/x-python",
   "name": "python",
   "nbconvert_exporter": "python",
   "pygments_lexer": "ipython2",
   "version": "2.7.6"
  }
 },
 "nbformat": 4,
 "nbformat_minor": 0
}