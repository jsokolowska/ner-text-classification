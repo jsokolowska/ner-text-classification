{
 "cells": [
  {
   "cell_type": "code",
   "execution_count": null,
   "outputs": [],
   "source": [
    "from src.scripts.common import *\n",
    "from src.scripts.experiments_util import *\n"
   ],
   "metadata": {
    "collapsed": false,
    "pycharm": {
     "name": "#%%\n"
    }
   }
  },
  {
   "cell_type": "code",
   "execution_count": null,
   "outputs": [],
   "source": [
    "# todo\n",
    "# [ ] data download\n",
    "# [ ] set data dir\n",
    "# [ ] draw makro and mikro curve for one dataset (only those two!)\n",
    "#       [ ] combine 3 classifiers (one per dataset/representation)\n",
    "#       [ ] combine 3 representation (one chart per dataset/classifier)\n",
    "# [ ] adjust functions for binary and multiclass\n",
    "\n",
    "# [alternative] - run and save predictions  for all classifiers/dataset/states"
   ],
   "metadata": {
    "collapsed": false,
    "pycharm": {
     "name": "#%%\n"
    }
   }
  },
  {
   "cell_type": "code",
   "execution_count": null,
   "outputs": [],
   "source": [],
   "metadata": {
    "collapsed": false,
    "pycharm": {
     "name": "#%%\n"
    }
   }
  }
 ],
 "metadata": {
  "kernelspec": {
   "display_name": "Python 3",
   "language": "python",
   "name": "python3"
  },
  "language_info": {
   "codemirror_mode": {
    "name": "ipython",
    "version": 2
   },
   "file_extension": ".py",
   "mimetype": "text/x-python",
   "name": "python",
   "nbconvert_exporter": "python",
   "pygments_lexer": "ipython2",
   "version": "2.7.6"
  }
 },
 "nbformat": 4,
 "nbformat_minor": 0
}