{
 "cells": [
  {
   "cell_type": "code",
   "execution_count": 6,
   "metadata": {
    "collapsed": true
   },
   "outputs": [],
   "source": [
    "from src.scripts.common import *\n",
    "import pandas as pd\n",
    "\n",
    "columns = [\"# of documents\", \"#of categories\", \"category distribution\", \"avg # of words per document\", \"avg # of NE per document\", \"feature # per representation\"]\n",
    "df = pd.DataFrame(columns = columns, index=[d.value for d in Dataset])\n",
    "TARGET_COL = 'target'\n",
    "TEXT_COL = 'text'"
   ]
  },
  {
   "cell_type": "code",
   "execution_count": 19,
   "outputs": [],
   "source": [
    "for d in Dataset:\n",
    "    train = load_raw(d, \"train\")\n",
    "    test = load_raw(d, \"test\")\n",
    "\n",
    "    df.loc[d.value, \"# of documents\"] = train.shape[0]+test.shape[0]\n",
    "\n",
    "    categories = train[TARGET_COL].unique().tolist()\n",
    "    df.loc[d.value,\"#of categories\"] = f\"{len(categories)}:{','.join([str(c) for c in categories])}\"\n",
    "\n",
    "    counts_train =train[TARGET_COL].value_counts()\n",
    "    counts_test = test[TARGET_COL].value_counts()\n",
    "    df.loc[d.value,\"category distribution\"] = ', '.join([f\"{c}: {counts_test[c] + counts_train[c]}\" for c in categories])\n",
    "\n",
    "    f_per_state = \"\"\n",
    "    for s in [State.BIO, State.STD, State.DOUBLE]:\n",
    "        test_state = read_as_dataframe(d,s,\"test\")\n",
    "        f_per_state += f\"{s.value.upper()}: {test_state.shape[1]} \"\n",
    "    df.loc[d.value,\"feature # per representation\"] = f_per_state\n",
    "\n"
   ],
   "metadata": {
    "collapsed": false,
    "pycharm": {
     "name": "#%%\n"
    }
   }
  },
  {
   "cell_type": "code",
   "execution_count": null,
   "outputs": [
    {
     "name": "stdout",
     "output_type": "stream",
     "text": [
      "(16800, 2)\n",
      "(10876, 2)\n",
      "(2225, 2)\n"
     ]
    }
   ],
   "source": [
    "from src.representations import SpacyNEClassifier\n",
    "tagged = {}\n",
    "# \"avg # of words per document\"\n",
    "for d in Dataset:\n",
    "    train = load_raw(d, \"train\")\n",
    "    test = load_raw(d, \"test\")\n",
    "    whole = pd.concat([train,test])\n",
    "    print(whole.shape)\n",
    "    ner = SpacyNEClassifier()\n",
    "    tagged[d] = ner.predict(whole[TEXT_COL])"
   ],
   "metadata": {
    "collapsed": false,
    "pycharm": {
     "name": "#%%\n",
     "is_executing": true
    }
   }
  },
  {
   "cell_type": "code",
   "execution_count": 20,
   "outputs": [
    {
     "data": {
      "text/plain": "           # of documents                                #of categories  \\\nag-news             16800                                     4:1,2,3,4   \ndisasters           10876          3:Relevant,Not Relevant,Can't Decide   \nbbc                  2225  5:tech,politics,sport,entertainment,business   \nfine-foods          10000                                   5:5,2,4,1,3   \nimdb                10000                           2:positive,negative   \n\n                                        category distribution  \\\nag-news                    1: 4200, 2: 4200, 3: 4200, 4: 4200   \ndisasters   Relevant: 4673, Not Relevant: 6187, Can't Deci...   \nbbc         tech: 401, politics: 417, sport: 511, entertai...   \nfine-foods           5: 6183, 2: 590, 4: 1433, 1: 932, 3: 862   \nimdb                           positive: 5028, negative: 4972   \n\n           avg # of words per document avg # of NE per document  \\\nag-news                            NaN                      NaN   \ndisasters                          NaN                      NaN   \nbbc                                NaN                      NaN   \nfine-foods                         NaN                      NaN   \nimdb                               NaN                      NaN   \n\n                feature # per representation  \nag-news       BIO: 7669STD: 5930DOUBLE: 8362  \ndisasters     BIO: 2761STD: 2250DOUBLE: 2854  \nbbc           BIO: 7670STD: 5365DOUBLE: 8104  \nfine-foods    BIO: 4461STD: 3356DOUBLE: 4792  \nimdb        BIO: 13526STD: 9738DOUBLE: 14251  ",
      "text/html": "<div>\n<style scoped>\n    .dataframe tbody tr th:only-of-type {\n        vertical-align: middle;\n    }\n\n    .dataframe tbody tr th {\n        vertical-align: top;\n    }\n\n    .dataframe thead th {\n        text-align: right;\n    }\n</style>\n<table border=\"1\" class=\"dataframe\">\n  <thead>\n    <tr style=\"text-align: right;\">\n      <th></th>\n      <th># of documents</th>\n      <th>#of categories</th>\n      <th>category distribution</th>\n      <th>avg # of words per document</th>\n      <th>avg # of NE per document</th>\n      <th>feature # per representation</th>\n    </tr>\n  </thead>\n  <tbody>\n    <tr>\n      <th>ag-news</th>\n      <td>16800</td>\n      <td>4:1,2,3,4</td>\n      <td>1: 4200, 2: 4200, 3: 4200, 4: 4200</td>\n      <td>NaN</td>\n      <td>NaN</td>\n      <td>BIO: 7669STD: 5930DOUBLE: 8362</td>\n    </tr>\n    <tr>\n      <th>disasters</th>\n      <td>10876</td>\n      <td>3:Relevant,Not Relevant,Can't Decide</td>\n      <td>Relevant: 4673, Not Relevant: 6187, Can't Deci...</td>\n      <td>NaN</td>\n      <td>NaN</td>\n      <td>BIO: 2761STD: 2250DOUBLE: 2854</td>\n    </tr>\n    <tr>\n      <th>bbc</th>\n      <td>2225</td>\n      <td>5:tech,politics,sport,entertainment,business</td>\n      <td>tech: 401, politics: 417, sport: 511, entertai...</td>\n      <td>NaN</td>\n      <td>NaN</td>\n      <td>BIO: 7670STD: 5365DOUBLE: 8104</td>\n    </tr>\n    <tr>\n      <th>fine-foods</th>\n      <td>10000</td>\n      <td>5:5,2,4,1,3</td>\n      <td>5: 6183, 2: 590, 4: 1433, 1: 932, 3: 862</td>\n      <td>NaN</td>\n      <td>NaN</td>\n      <td>BIO: 4461STD: 3356DOUBLE: 4792</td>\n    </tr>\n    <tr>\n      <th>imdb</th>\n      <td>10000</td>\n      <td>2:positive,negative</td>\n      <td>positive: 5028, negative: 4972</td>\n      <td>NaN</td>\n      <td>NaN</td>\n      <td>BIO: 13526STD: 9738DOUBLE: 14251</td>\n    </tr>\n  </tbody>\n</table>\n</div>"
     },
     "execution_count": 20,
     "metadata": {},
     "output_type": "execute_result"
    }
   ],
   "source": [
    "df"
   ],
   "metadata": {
    "collapsed": false,
    "pycharm": {
     "name": "#%%\n"
    }
   }
  },
  {
   "cell_type": "code",
   "execution_count": null,
   "outputs": [],
   "source": [],
   "metadata": {
    "collapsed": false,
    "pycharm": {
     "name": "#%%\n"
    }
   }
  }
 ],
 "metadata": {
  "kernelspec": {
   "display_name": "Python 3",
   "language": "python",
   "name": "python3"
  },
  "language_info": {
   "codemirror_mode": {
    "name": "ipython",
    "version": 2
   },
   "file_extension": ".py",
   "mimetype": "text/x-python",
   "name": "python",
   "nbconvert_exporter": "python",
   "pygments_lexer": "ipython2",
   "version": "2.7.6"
  }
 },
 "nbformat": 4,
 "nbformat_minor": 0
}