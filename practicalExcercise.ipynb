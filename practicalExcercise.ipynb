{
  "nbformat": 4,
  "nbformat_minor": 5,
  "metadata": {
    "kernelspec": {
      "name": "python3",
      "display_name": "Python 3"
    },
    "colab": {
      "name": "practicalExcercise.ipynb",
      "provenance": [],
      "toc_visible": true
    },
    "language_info": {
      "name": "python"
    }
  },
  "cells": [
    {
      "cell_type": "code",
      "metadata": {
        "colab": {
          "base_uri": "https://localhost:8080/"
        },
        "id": "wO4bHsXGdrfq",
        "outputId": "82a739a8-3f69-44ba-c9cb-e3c4c6a97b88"
      },
      "source": [
        "from google.colab import drive\n",
        "drive.mount('/content/drive')"
      ],
      "id": "wO4bHsXGdrfq",
      "execution_count": 42,
      "outputs": [
        {
          "output_type": "stream",
          "text": [
            "Drive already mounted at /content/drive; to attempt to forcibly remount, call drive.mount(\"/content/drive\", force_remount=True).\n"
          ],
          "name": "stdout"
        }
      ]
    },
    {
      "cell_type": "code",
      "metadata": {
        "scrolled": true,
        "id": "willing-output",
        "colab": {
          "base_uri": "https://localhost:8080/",
          "height": 347
        },
        "outputId": "d0525eb7-89bc-4879-d7e2-7d70facf3775"
      },
      "source": [
        "import pandas as pd\n",
        "import seaborn as sns\n",
        "import matplotlib.pyplot as plt\n",
        "import sklearn\n",
        "import nltk\n",
        "import numpy as np\n",
        "nltk.download('punkt')\n",
        "%matplotlib inline\n",
        "\n",
        "data_paths = [f'drive/MyDrive/Data/refsa-sample-data/{x}/use_as_train_{x}.csv' for x in [\"ERIS\", \"Isoflavones\", \"Bacillus\"]]\n",
        "validation_paths =  [f'drive/MyDrive/Data/refsa-sample-data/{x}/use_as_validation_{x}.csv' for x in [\"ERIS\", \"Isoflavones\", \"Bacillus\"]]\n",
        "\n",
        "df = pd.read_csv(data_paths[0], index_col=0)\n",
        "df_test = pd.read_csv(validation_paths[0], index_col=0)\n",
        "\n",
        "print(df.shape)\n",
        "df.head()"
      ],
      "id": "willing-output",
      "execution_count": 43,
      "outputs": [
        {
          "output_type": "stream",
          "text": [
            "[nltk_data] Downloading package punkt to /root/nltk_data...\n",
            "[nltk_data]   Package punkt is already up-to-date!\n",
            "(527, 5)\n"
          ],
          "name": "stdout"
        },
        {
          "output_type": "execute_result",
          "data": {
            "text/html": [
              "<div>\n",
              "<style scoped>\n",
              "    .dataframe tbody tr th:only-of-type {\n",
              "        vertical-align: middle;\n",
              "    }\n",
              "\n",
              "    .dataframe tbody tr th {\n",
              "        vertical-align: top;\n",
              "    }\n",
              "\n",
              "    .dataframe thead th {\n",
              "        text-align: right;\n",
              "    }\n",
              "</style>\n",
              "<table border=\"1\" class=\"dataframe\">\n",
              "  <thead>\n",
              "    <tr style=\"text-align: right;\">\n",
              "      <th></th>\n",
              "      <th>X...Author</th>\n",
              "      <th>Title</th>\n",
              "      <th>Abstract</th>\n",
              "      <th>Journal</th>\n",
              "      <th>Indicator</th>\n",
              "    </tr>\n",
              "  </thead>\n",
              "  <tbody>\n",
              "    <tr>\n",
              "      <th>377</th>\n",
              "      <td>O. Wessel, C. M. Olsen, E. Rimstad and M. K. D...</td>\n",
              "      <td>Piscine orthoreovirus (PRV) replicates in Atla...</td>\n",
              "      <td>Piscine orthoreovirus (PRV) is a reovirus that...</td>\n",
              "      <td>Vet Res</td>\n",
              "      <td>-1</td>\n",
              "    </tr>\n",
              "    <tr>\n",
              "      <th>172</th>\n",
              "      <td>M. C. Hikke, C. Geertsema, V. Wu, S. W. Metz, ...</td>\n",
              "      <td>Alphavirus capsid proteins self-assemble into ...</td>\n",
              "      <td>The mosquito-borne chikungunya virus (CHIKV) c...</td>\n",
              "      <td>Biotechnol J</td>\n",
              "      <td>-1</td>\n",
              "    </tr>\n",
              "    <tr>\n",
              "      <th>248</th>\n",
              "      <td>J. Nacher-Mestre, R. Serrano, E. Beltran, J. P...</td>\n",
              "      <td>Occurrence and potential transfer of mycotoxin...</td>\n",
              "      <td>Plant ingredients and processed animal protein...</td>\n",
              "      <td>Chemosphere</td>\n",
              "      <td>1</td>\n",
              "    </tr>\n",
              "    <tr>\n",
              "      <th>525</th>\n",
              "      <td>B. D. Johnson, S. L. Gilbert, B. Khan, D. L. C...</td>\n",
              "      <td>Cellular responses of eastern oysters, Crassos...</td>\n",
              "      <td>Because of the continued development and produ...</td>\n",
              "      <td>Mar Environ Res</td>\n",
              "      <td>1</td>\n",
              "    </tr>\n",
              "    <tr>\n",
              "      <th>614</th>\n",
              "      <td>L. Zi-qi, M. Qian, S. Feng-qing, W. Ying-wen, ...</td>\n",
              "      <td>Research progress of chitosan and its derivati...</td>\n",
              "      <td>Recently, the problem of heavy metal pollution...</td>\n",
              "      <td>Food &amp; Machinery</td>\n",
              "      <td>-1</td>\n",
              "    </tr>\n",
              "  </tbody>\n",
              "</table>\n",
              "</div>"
            ],
            "text/plain": [
              "                                            X...Author  ... Indicator\n",
              "377  O. Wessel, C. M. Olsen, E. Rimstad and M. K. D...  ...        -1\n",
              "172  M. C. Hikke, C. Geertsema, V. Wu, S. W. Metz, ...  ...        -1\n",
              "248  J. Nacher-Mestre, R. Serrano, E. Beltran, J. P...  ...         1\n",
              "525  B. D. Johnson, S. L. Gilbert, B. Khan, D. L. C...  ...         1\n",
              "614  L. Zi-qi, M. Qian, S. Feng-qing, W. Ying-wen, ...  ...        -1\n",
              "\n",
              "[5 rows x 5 columns]"
            ]
          },
          "metadata": {
            "tags": []
          },
          "execution_count": 43
        }
      ]
    },
    {
      "cell_type": "code",
      "metadata": {
        "id": "special-italian",
        "colab": {
          "base_uri": "https://localhost:8080/"
        },
        "outputId": "ad7ab208-61a2-4d47-9446-7dee9d239dc0"
      },
      "source": [
        "#check for null values\n",
        "df.isnull().sum()"
      ],
      "id": "special-italian",
      "execution_count": 44,
      "outputs": [
        {
          "output_type": "execute_result",
          "data": {
            "text/plain": [
              "X...Author    0\n",
              "Title         0\n",
              "Abstract      0\n",
              "Journal       1\n",
              "Indicator     0\n",
              "dtype: int64"
            ]
          },
          "metadata": {
            "tags": []
          },
          "execution_count": 44
        }
      ]
    },
    {
      "cell_type": "code",
      "metadata": {
        "id": "chemical-margin"
      },
      "source": [
        "X = df[[\"Title\", \"Abstract\"]].copy()\n",
        "y = df[\"Indicator\"]\n",
        "\n",
        "X_test = df_test[[\"Title\", \"Abstract\"]]\n",
        "y_test = df_test[\"Indicator\"]"
      ],
      "id": "chemical-margin",
      "execution_count": 45,
      "outputs": []
    },
    {
      "cell_type": "markdown",
      "metadata": {
        "id": "regulated-romance"
      },
      "source": [
        "Cleaning text data\n",
        "===="
      ],
      "id": "regulated-romance"
    },
    {
      "cell_type": "code",
      "metadata": {
        "id": "literary-firmware",
        "colab": {
          "base_uri": "https://localhost:8080/"
        },
        "outputId": "d40d7d14-4e66-4c05-f6d3-fbd1edfa34e6"
      },
      "source": [
        "for abs in df[\"Abstract\"][:4]:\n",
        "    print(abs + \"\\n\")"
      ],
      "id": "literary-firmware",
      "execution_count": 46,
      "outputs": [
        {
          "output_type": "stream",
          "text": [
            "Piscine orthoreovirus (PRV) is a reovirus that has predominantly been detected in Atlantic salmon (Salmo salar L.). PRV is associated with heart and skeletal muscle inflammation (HSMI) in farmed Atlantic salmon, and recently erythrocytes were identified as major target cells. The study of PRV replication and pathogenesis of the infection has been impeded by the inability to propagate PRV in vitro. In this study we developed an ex vivo cultivation system for PRV in Atlantic salmon erythrocytes. PRV was successfully passaged to naive erythrocytes using lysates of blood cells from infected salmon. During cultivation a significant increase in viral load was observed by RT-qPCR and flow cytometry, which coincided with the formation of cytoplasmic inclusions. The inclusions resembled viral factories and contained both PRV protein and dsRNA. In addition, the erythrocytes generated an antiviral immune gene activation after PRV infection, with significant up-regulation of IFN-alpha, RIG-I, Mx and PKR transcripts. Supernatants from the first passage successfully transmitted virus to naive erythrocytes. This study demonstrates that PRV replicates in Atlantic salmon erythrocytes ex vivo. The ex vivo infection model closely reflects the situation in vivo and can be used to study the infection and replication mechanisms of PRV, as well as the antiviral immune responses of salmonid erythrocytes.\n",
            "\n",
            "The mosquito-borne chikungunya virus (CHIKV) causes arthritic diseases in humans, whereas the aquatic salmonid alphavirus (SAV) is associated with high mortality in aquaculture of salmon and trout. Using modern biotechnological approaches, promising vaccine candidates based upon highly immunogenic, enveloped virus-like particles (eVLPs) have been developed. However, the eVLP structure (core, lipid membrane, surface glycoproteins) is more complex than that of non-enveloped, protein-only VLPs, which are structurally and morphologically 'simple'. In order to develop an alternative to alphavirus eVLPs, in this paper we engineered recombinant baculovirus vectors to produce high levels of alphavirus core-like particles (CLPs) in insect cells by expression of the CHIKV and SAV capsid proteins. The CLPs localize in dense nuclear bodies within the infected cell nucleus and are purified through a rapid and scalable protocol involving cell lysis, sonication and low-speed centrifugation steps. Furthermore, an immunogenic epitope from the alphavirus E2 glycoprotein can be successfully fused to the N-terminus of the capsid protein without disrupting the CLP self-assembling properties. We propose that immunogenic epitope-tagged alphavirus CLPs produced in insect cells present a simple and perhaps more stable alternative to alphavirus eVLPs.\n",
            "\n",
            "Plant ingredients and processed animal proteins (PAP) are suitable alternative feedstuffs for fish feeds in aquaculture practice, although their use can introduce contaminants that are not previously associated with marine salmon and gilthead sea bream farming. Mycotoxins are well known natural contaminants in plant feed material, although they also could be present on PAPs after fungi growth during storage. The present study surveyed commercially available plant ingredients (19) and PAP (19) for a wide range of mycotoxins (18) according to the EU regulations. PAP showed only minor levels of ochratoxin A and fumonisin B1 and the mycotoxin carry-over from feeds to fillets of farmed Atlantic salmon and gilthead sea bream (two main species of European aquaculture) was performed with plant ingredient based diets. Deoxynivalenol was the most prevalent mycotoxin in wheat, wheat gluten and corn gluten cereals with levels ranging from 17 to 814 and mug kg(-1), followed by fumonisins in corn products (range 11.1-4901 mug kg(-1) for fumonisin B1+B2+B3). Overall mycotoxin levels in fish feeds reflected the feed ingredient composition and the level of contaminant in each feed ingredient. In all cases the studied ingredients and feeds showed levels of mycotoxins below maximum residue limits established by the Commission Recommendation 2006/576/EC. Following these guidelines no mycotoxin carry-over was found from feeds to edible fillets of salmonids and a typically marine fish, such as gilthead sea bream. As far we know, this is the first report of mycotoxin surveillance in farmed fish species.\n",
            "\n",
            "Because of the continued development and production of a variety of nanomaterials and nanoparticles, their uptake and effects on the biota of marine ecosystems must be investigated. Filter feeding bivalve molluscs are highly adapted for capturing particles from the external environment and readily internalize nano- and micro-sized particles through endocytosis, so they are commonly used as valuable indicator species for nanoparticle studies. In these studies, adult eastern oysters, Crassostrea virginica, were exposed to a range of titanium dioxide nanoparticle (TiO2-NP) concentrations (5, 50, 500, and 5000 mug/L) in conjunction with natural sunlight. Isolated hepatopancreas tissues were also exposed to the same TiO2-NP concentrations using particles exposed to similar light and dark conditions. Dose-dependent decreases in lysosomal stability were observed in the adult oyster studies as well as in the isolated tissues, at exposures as low as 50 mug/L. Titanium accumulation in isolated hepatopancreas tissue studies was directly correlated to lysosomal destabilization. Based on measurements of lipid peroxidation as an indicator of oxidative stress, TiO2-NPs toxicity was not related to increased ROS production over the short-term course of these exposures. Analysis of particle size using dynamic light scattering (DLS) indicated that concentration had a significant impact on agglomeration rates, and the small agglomerates as well as individual particles are readily processed by oysters. Overall, this study illustrates that low concentrations of TiO2-NPs may cause sublethal toxicity on oysters, which might be enhanced under natural sunlight conditions. In estuarine environments, where these nanomaterials are likely to accumulate, agglomeration rates, interaction with organics, and responses to sunlight are critical in determining the extent of their bioreactivity and biological impacts.\n",
            "\n"
          ],
          "name": "stdout"
        }
      ]
    },
    {
      "cell_type": "markdown",
      "metadata": {
        "id": "nonprofit-carnival"
      },
      "source": [
        "Things to consider when cleaning the data:\n",
        "- abreviations\n",
        "- numeric values and citation numbers\n",
        "- hyphenated words like *mosquito-borne*\n",
        "\n",
        "There is probably no need to remove contractions due to scientific nature of the data. \n"
      ],
      "id": "nonprofit-carnival"
    },
    {
      "cell_type": "code",
      "metadata": {
        "id": "spectacular-mexican",
        "colab": {
          "base_uri": "https://localhost:8080/",
          "height": 531
        },
        "outputId": "0e9f28b9-f503-4e7e-e3a0-a738460b72e3"
      },
      "source": [
        "#tokenize and lowercase\n",
        "from nltk.tokenize import word_tokenize\n",
        "\n",
        "def tokenize_and_lower(s):\n",
        "    return [x.lower() for x in word_tokenize(s)]\n",
        "\n",
        "X[\"tokenized_title\"] = X[\"Title\"].apply(tokenize_and_lower)\n",
        "X[\"tokenized_abstract\"] = X[\"Abstract\"].apply(tokenize_and_lower)\n",
        "\n",
        "X_test[\"tokenized_title\"] = X_test[\"Title\"].apply(tokenize_and_lower)\n",
        "X_test[\"tokenized_abstract\"] = X_test[\"Abstract\"].apply(tokenize_and_lower)\n",
        "\n",
        "X.head()"
      ],
      "id": "spectacular-mexican",
      "execution_count": 47,
      "outputs": [
        {
          "output_type": "stream",
          "text": [
            "/usr/local/lib/python3.7/dist-packages/ipykernel_launcher.py:10: SettingWithCopyWarning: \n",
            "A value is trying to be set on a copy of a slice from a DataFrame.\n",
            "Try using .loc[row_indexer,col_indexer] = value instead\n",
            "\n",
            "See the caveats in the documentation: https://pandas.pydata.org/pandas-docs/stable/user_guide/indexing.html#returning-a-view-versus-a-copy\n",
            "  # Remove the CWD from sys.path while we load stuff.\n",
            "/usr/local/lib/python3.7/dist-packages/ipykernel_launcher.py:11: SettingWithCopyWarning: \n",
            "A value is trying to be set on a copy of a slice from a DataFrame.\n",
            "Try using .loc[row_indexer,col_indexer] = value instead\n",
            "\n",
            "See the caveats in the documentation: https://pandas.pydata.org/pandas-docs/stable/user_guide/indexing.html#returning-a-view-versus-a-copy\n",
            "  # This is added back by InteractiveShellApp.init_path()\n"
          ],
          "name": "stderr"
        },
        {
          "output_type": "execute_result",
          "data": {
            "text/html": [
              "<div>\n",
              "<style scoped>\n",
              "    .dataframe tbody tr th:only-of-type {\n",
              "        vertical-align: middle;\n",
              "    }\n",
              "\n",
              "    .dataframe tbody tr th {\n",
              "        vertical-align: top;\n",
              "    }\n",
              "\n",
              "    .dataframe thead th {\n",
              "        text-align: right;\n",
              "    }\n",
              "</style>\n",
              "<table border=\"1\" class=\"dataframe\">\n",
              "  <thead>\n",
              "    <tr style=\"text-align: right;\">\n",
              "      <th></th>\n",
              "      <th>Title</th>\n",
              "      <th>Abstract</th>\n",
              "      <th>tokenized_title</th>\n",
              "      <th>tokenized_abstract</th>\n",
              "    </tr>\n",
              "  </thead>\n",
              "  <tbody>\n",
              "    <tr>\n",
              "      <th>377</th>\n",
              "      <td>Piscine orthoreovirus (PRV) replicates in Atla...</td>\n",
              "      <td>Piscine orthoreovirus (PRV) is a reovirus that...</td>\n",
              "      <td>[piscine, orthoreovirus, (, prv, ), replicates...</td>\n",
              "      <td>[piscine, orthoreovirus, (, prv, ), is, a, reo...</td>\n",
              "    </tr>\n",
              "    <tr>\n",
              "      <th>172</th>\n",
              "      <td>Alphavirus capsid proteins self-assemble into ...</td>\n",
              "      <td>The mosquito-borne chikungunya virus (CHIKV) c...</td>\n",
              "      <td>[alphavirus, capsid, proteins, self-assemble, ...</td>\n",
              "      <td>[the, mosquito-borne, chikungunya, virus, (, c...</td>\n",
              "    </tr>\n",
              "    <tr>\n",
              "      <th>248</th>\n",
              "      <td>Occurrence and potential transfer of mycotoxin...</td>\n",
              "      <td>Plant ingredients and processed animal protein...</td>\n",
              "      <td>[occurrence, and, potential, transfer, of, myc...</td>\n",
              "      <td>[plant, ingredients, and, processed, animal, p...</td>\n",
              "    </tr>\n",
              "    <tr>\n",
              "      <th>525</th>\n",
              "      <td>Cellular responses of eastern oysters, Crassos...</td>\n",
              "      <td>Because of the continued development and produ...</td>\n",
              "      <td>[cellular, responses, of, eastern, oysters, ,,...</td>\n",
              "      <td>[because, of, the, continued, development, and...</td>\n",
              "    </tr>\n",
              "    <tr>\n",
              "      <th>614</th>\n",
              "      <td>Research progress of chitosan and its derivati...</td>\n",
              "      <td>Recently, the problem of heavy metal pollution...</td>\n",
              "      <td>[research, progress, of, chitosan, and, its, d...</td>\n",
              "      <td>[recently, ,, the, problem, of, heavy, metal, ...</td>\n",
              "    </tr>\n",
              "  </tbody>\n",
              "</table>\n",
              "</div>"
            ],
            "text/plain": [
              "                                                 Title  ...                                 tokenized_abstract\n",
              "377  Piscine orthoreovirus (PRV) replicates in Atla...  ...  [piscine, orthoreovirus, (, prv, ), is, a, reo...\n",
              "172  Alphavirus capsid proteins self-assemble into ...  ...  [the, mosquito-borne, chikungunya, virus, (, c...\n",
              "248  Occurrence and potential transfer of mycotoxin...  ...  [plant, ingredients, and, processed, animal, p...\n",
              "525  Cellular responses of eastern oysters, Crassos...  ...  [because, of, the, continued, development, and...\n",
              "614  Research progress of chitosan and its derivati...  ...  [recently, ,, the, problem, of, heavy, metal, ...\n",
              "\n",
              "[5 rows x 4 columns]"
            ]
          },
          "metadata": {
            "tags": []
          },
          "execution_count": 47
        }
      ]
    },
    {
      "cell_type": "code",
      "metadata": {
        "id": "liquid-outdoors",
        "colab": {
          "base_uri": "https://localhost:8080/"
        },
        "outputId": "4dc33fa7-3138-4224-8210-9db938c61be8"
      },
      "source": [
        "#remove punctuation and stopwords\n",
        "import string\n",
        "from nltk.corpus import stopwords\n",
        "nltk.download('stopwords')\n",
        "\n",
        "chars_for_removal = set(list(string.punctuation) + stopwords.words(\"english\"))\n",
        "print(chars_for_removal)"
      ],
      "id": "liquid-outdoors",
      "execution_count": 48,
      "outputs": [
        {
          "output_type": "stream",
          "text": [
            "[nltk_data] Downloading package stopwords to /root/nltk_data...\n",
            "[nltk_data]   Package stopwords is already up-to-date!\n",
            "{'until', 'my', \"haven't\", 'haven', 'you', '$', 'that', 'ours', '=', '!', 'mustn', 'does', 'all', 'not', 'are', '@', ';', 'them', 'had', 'so', \"shan't\", 'doesn', 'an', 'such', 'why', '(', ':', '[', 'very', 'at', \"that'll\", \"doesn't\", 'its', 'some', \"don't\", \"you'd\", 'mightn', 'off', \"you'll\", 'while', '*', \"mightn't\", 'should', '&', 'during', '`', 'yours', 'same', 'yourself', 'in', 'under', '<', 'do', 'again', 'ma', 'out', 'him', '/', 'or', 'herself', 'but', 'there', 'she', 'once', 'been', '|', 'each', 'isn', ',', '#', ']', \"'\", 'did', 'don', 'i', \"she's\", '\"', 'won', 'any', 'didn', 'is', '.', 'if', \"couldn't\", 'for', \"wouldn't\", 'how', 'which', 'now', 'into', 'too', 'up', 'aren', 'be', 'd', 'being', \"mustn't\", \"should've\", \"won't\", 'their', 'those', 'a', 'your', '}', 'over', 'against', 'own', 'the', \"hadn't\", 'because', 'where', 'hasn', '%', 'itself', 'no', 'ain', 'through', 'they', 'll', 'we', 'than', \"needn't\", 's', 'nor', 'needn', 'ourselves', 'only', 'it', \"didn't\", 'her', 'with', 'whom', 'about', '{', '\\\\', '_', 'yourselves', 'himself', 'to', 'shan', \"it's\", 't', 'his', ')', 'wouldn', 'above', 'hadn', 'y', 've', 'of', 'm', \"weren't\", 'themselves', 'down', 'as', 'o', '?', 'having', \"isn't\", 'who', 'after', 'myself', 'here', '+', 'by', '~', 'our', 'on', 'these', 'most', 'other', 'doing', 'am', 'and', '-', '^', 'will', 'both', 'hers', 'was', 'before', \"hasn't\", 'further', 'between', \"shouldn't\", '>', \"you're\", 'when', 'below', 'wasn', 'weren', 're', 'has', 'couldn', 'can', 'have', \"aren't\", 'what', 'from', 'few', 'were', 'more', \"you've\", 'theirs', 'just', 'this', 'me', 'then', \"wasn't\", 'shouldn', 'he'}\n"
          ],
          "name": "stdout"
        }
      ]
    },
    {
      "cell_type": "code",
      "metadata": {
        "id": "experienced-copying",
        "colab": {
          "base_uri": "https://localhost:8080/",
          "height": 397
        },
        "outputId": "ef01f715-3688-4b43-ed89-2b65ae967c98"
      },
      "source": [
        "def filter_words(string_list):\n",
        "    return [word for word in string_list if word not in chars_for_removal]\n",
        "\n",
        "X[\"filtered_title\"] = X[\"tokenized_title\"].apply(filter_words)\n",
        "X[\"filtered_abstract\"] = X[\"tokenized_abstract\"].apply(filter_words)\n",
        "\n",
        "X_test[\"filtered_title\"] = X_test[\"tokenized_title\"].apply(filter_words)\n",
        "X_test[\"filtered_abstract\"] = X_test[\"tokenized_abstract\"].apply(filter_words)\n",
        "X.head()"
      ],
      "id": "experienced-copying",
      "execution_count": 49,
      "outputs": [
        {
          "output_type": "execute_result",
          "data": {
            "text/html": [
              "<div>\n",
              "<style scoped>\n",
              "    .dataframe tbody tr th:only-of-type {\n",
              "        vertical-align: middle;\n",
              "    }\n",
              "\n",
              "    .dataframe tbody tr th {\n",
              "        vertical-align: top;\n",
              "    }\n",
              "\n",
              "    .dataframe thead th {\n",
              "        text-align: right;\n",
              "    }\n",
              "</style>\n",
              "<table border=\"1\" class=\"dataframe\">\n",
              "  <thead>\n",
              "    <tr style=\"text-align: right;\">\n",
              "      <th></th>\n",
              "      <th>Title</th>\n",
              "      <th>Abstract</th>\n",
              "      <th>tokenized_title</th>\n",
              "      <th>tokenized_abstract</th>\n",
              "      <th>filtered_title</th>\n",
              "      <th>filtered_abstract</th>\n",
              "    </tr>\n",
              "  </thead>\n",
              "  <tbody>\n",
              "    <tr>\n",
              "      <th>377</th>\n",
              "      <td>Piscine orthoreovirus (PRV) replicates in Atla...</td>\n",
              "      <td>Piscine orthoreovirus (PRV) is a reovirus that...</td>\n",
              "      <td>[piscine, orthoreovirus, (, prv, ), replicates...</td>\n",
              "      <td>[piscine, orthoreovirus, (, prv, ), is, a, reo...</td>\n",
              "      <td>[piscine, orthoreovirus, prv, replicates, atla...</td>\n",
              "      <td>[piscine, orthoreovirus, prv, reovirus, predom...</td>\n",
              "    </tr>\n",
              "    <tr>\n",
              "      <th>172</th>\n",
              "      <td>Alphavirus capsid proteins self-assemble into ...</td>\n",
              "      <td>The mosquito-borne chikungunya virus (CHIKV) c...</td>\n",
              "      <td>[alphavirus, capsid, proteins, self-assemble, ...</td>\n",
              "      <td>[the, mosquito-borne, chikungunya, virus, (, c...</td>\n",
              "      <td>[alphavirus, capsid, proteins, self-assemble, ...</td>\n",
              "      <td>[mosquito-borne, chikungunya, virus, chikv, ca...</td>\n",
              "    </tr>\n",
              "    <tr>\n",
              "      <th>248</th>\n",
              "      <td>Occurrence and potential transfer of mycotoxin...</td>\n",
              "      <td>Plant ingredients and processed animal protein...</td>\n",
              "      <td>[occurrence, and, potential, transfer, of, myc...</td>\n",
              "      <td>[plant, ingredients, and, processed, animal, p...</td>\n",
              "      <td>[occurrence, potential, transfer, mycotoxins, ...</td>\n",
              "      <td>[plant, ingredients, processed, animal, protei...</td>\n",
              "    </tr>\n",
              "    <tr>\n",
              "      <th>525</th>\n",
              "      <td>Cellular responses of eastern oysters, Crassos...</td>\n",
              "      <td>Because of the continued development and produ...</td>\n",
              "      <td>[cellular, responses, of, eastern, oysters, ,,...</td>\n",
              "      <td>[because, of, the, continued, development, and...</td>\n",
              "      <td>[cellular, responses, eastern, oysters, crasso...</td>\n",
              "      <td>[continued, development, production, variety, ...</td>\n",
              "    </tr>\n",
              "    <tr>\n",
              "      <th>614</th>\n",
              "      <td>Research progress of chitosan and its derivati...</td>\n",
              "      <td>Recently, the problem of heavy metal pollution...</td>\n",
              "      <td>[research, progress, of, chitosan, and, its, d...</td>\n",
              "      <td>[recently, ,, the, problem, of, heavy, metal, ...</td>\n",
              "      <td>[research, progress, chitosan, derivatives, re...</td>\n",
              "      <td>[recently, problem, heavy, metal, pollution, a...</td>\n",
              "    </tr>\n",
              "  </tbody>\n",
              "</table>\n",
              "</div>"
            ],
            "text/plain": [
              "                                                 Title  ...                                  filtered_abstract\n",
              "377  Piscine orthoreovirus (PRV) replicates in Atla...  ...  [piscine, orthoreovirus, prv, reovirus, predom...\n",
              "172  Alphavirus capsid proteins self-assemble into ...  ...  [mosquito-borne, chikungunya, virus, chikv, ca...\n",
              "248  Occurrence and potential transfer of mycotoxin...  ...  [plant, ingredients, processed, animal, protei...\n",
              "525  Cellular responses of eastern oysters, Crassos...  ...  [continued, development, production, variety, ...\n",
              "614  Research progress of chitosan and its derivati...  ...  [recently, problem, heavy, metal, pollution, a...\n",
              "\n",
              "[5 rows x 6 columns]"
            ]
          },
          "metadata": {
            "tags": []
          },
          "execution_count": 49
        }
      ]
    },
    {
      "cell_type": "markdown",
      "metadata": {
        "id": "similar-roulette"
      },
      "source": [
        "Im not sure whether stemming the data would be a good choice - will domain-specific words get well lematized?\n",
        "\n"
      ],
      "id": "similar-roulette"
    },
    {
      "cell_type": "code",
      "metadata": {
        "id": "brief-raising",
        "colab": {
          "base_uri": "https://localhost:8080/",
          "height": 717
        },
        "outputId": "ae383072-d9bb-411a-ad21-910db22776fa"
      },
      "source": [
        "#adding pos tags for lemmatization with wordnet\n",
        "from nltk.corpus import wordnet\n",
        "nltk.download('wordnet')\n",
        "nltk.download('averaged_perceptron_tagger')\n",
        "X[\"pos_title\"] = X[\"filtered_title\"].apply(nltk.tag.pos_tag)\n",
        "X[\"pos_abstract\"] = X[\"filtered_abstract\"].apply(nltk.tag.pos_tag)\n",
        "\n",
        "X_test[\"pos_title\"] = X_test[\"filtered_title\"].apply(nltk.tag.pos_tag)\n",
        "X_test[\"pos_abstract\"] = X_test[\"filtered_abstract\"].apply(nltk.tag.pos_tag)\n",
        "\n",
        "def map_to_wordnet_pos(tuple_list):\n",
        "    return [(word, get_wnet_tag(tag)) for (word, tag) in tuple_list]\n",
        " \n",
        "def get_wnet_tag(tag):\n",
        "    if tag.startswith('J'):\n",
        "        return wordnet.ADJ\n",
        "    if tag.startswith('V'):\n",
        "        return wordnet.VERB\n",
        "    if tag.startswith('R'):\n",
        "        return wordnet.ADV\n",
        "    else:\n",
        "        return wordnet.NOUN\n",
        "    \n",
        "X_test[\"wntag_title\"] = X_test[\"pos_title\"].apply(map_to_wordnet_pos)\n",
        "X_test[\"wntag_abstract\"] = X_test[\"pos_abstract\"].apply(map_to_wordnet_pos)  \n",
        "X[\"wntag_title\"] = X[\"pos_title\"].apply(map_to_wordnet_pos)\n",
        "X[\"wntag_abstract\"] = X[\"pos_abstract\"].apply(map_to_wordnet_pos)   \n",
        "\n",
        "X.head()\n"
      ],
      "id": "brief-raising",
      "execution_count": 50,
      "outputs": [
        {
          "output_type": "stream",
          "text": [
            "[nltk_data] Downloading package wordnet to /root/nltk_data...\n",
            "[nltk_data]   Package wordnet is already up-to-date!\n",
            "[nltk_data] Downloading package averaged_perceptron_tagger to\n",
            "[nltk_data]     /root/nltk_data...\n",
            "[nltk_data]   Package averaged_perceptron_tagger is already up-to-\n",
            "[nltk_data]       date!\n"
          ],
          "name": "stdout"
        },
        {
          "output_type": "execute_result",
          "data": {
            "text/html": [
              "<div>\n",
              "<style scoped>\n",
              "    .dataframe tbody tr th:only-of-type {\n",
              "        vertical-align: middle;\n",
              "    }\n",
              "\n",
              "    .dataframe tbody tr th {\n",
              "        vertical-align: top;\n",
              "    }\n",
              "\n",
              "    .dataframe thead th {\n",
              "        text-align: right;\n",
              "    }\n",
              "</style>\n",
              "<table border=\"1\" class=\"dataframe\">\n",
              "  <thead>\n",
              "    <tr style=\"text-align: right;\">\n",
              "      <th></th>\n",
              "      <th>Title</th>\n",
              "      <th>Abstract</th>\n",
              "      <th>tokenized_title</th>\n",
              "      <th>tokenized_abstract</th>\n",
              "      <th>filtered_title</th>\n",
              "      <th>filtered_abstract</th>\n",
              "      <th>pos_title</th>\n",
              "      <th>pos_abstract</th>\n",
              "      <th>wntag_title</th>\n",
              "      <th>wntag_abstract</th>\n",
              "    </tr>\n",
              "  </thead>\n",
              "  <tbody>\n",
              "    <tr>\n",
              "      <th>377</th>\n",
              "      <td>Piscine orthoreovirus (PRV) replicates in Atla...</td>\n",
              "      <td>Piscine orthoreovirus (PRV) is a reovirus that...</td>\n",
              "      <td>[piscine, orthoreovirus, (, prv, ), replicates...</td>\n",
              "      <td>[piscine, orthoreovirus, (, prv, ), is, a, reo...</td>\n",
              "      <td>[piscine, orthoreovirus, prv, replicates, atla...</td>\n",
              "      <td>[piscine, orthoreovirus, prv, reovirus, predom...</td>\n",
              "      <td>[(piscine, NN), (orthoreovirus, NN), (prv, NN)...</td>\n",
              "      <td>[(piscine, NN), (orthoreovirus, NN), (prv, NN)...</td>\n",
              "      <td>[(piscine, n), (orthoreovirus, n), (prv, n), (...</td>\n",
              "      <td>[(piscine, n), (orthoreovirus, n), (prv, n), (...</td>\n",
              "    </tr>\n",
              "    <tr>\n",
              "      <th>172</th>\n",
              "      <td>Alphavirus capsid proteins self-assemble into ...</td>\n",
              "      <td>The mosquito-borne chikungunya virus (CHIKV) c...</td>\n",
              "      <td>[alphavirus, capsid, proteins, self-assemble, ...</td>\n",
              "      <td>[the, mosquito-borne, chikungunya, virus, (, c...</td>\n",
              "      <td>[alphavirus, capsid, proteins, self-assemble, ...</td>\n",
              "      <td>[mosquito-borne, chikungunya, virus, chikv, ca...</td>\n",
              "      <td>[(alphavirus, NN), (capsid, NN), (proteins, VB...</td>\n",
              "      <td>[(mosquito-borne, JJ), (chikungunya, NN), (vir...</td>\n",
              "      <td>[(alphavirus, n), (capsid, n), (proteins, v), ...</td>\n",
              "      <td>[(mosquito-borne, a), (chikungunya, n), (virus...</td>\n",
              "    </tr>\n",
              "    <tr>\n",
              "      <th>248</th>\n",
              "      <td>Occurrence and potential transfer of mycotoxin...</td>\n",
              "      <td>Plant ingredients and processed animal protein...</td>\n",
              "      <td>[occurrence, and, potential, transfer, of, myc...</td>\n",
              "      <td>[plant, ingredients, and, processed, animal, p...</td>\n",
              "      <td>[occurrence, potential, transfer, mycotoxins, ...</td>\n",
              "      <td>[plant, ingredients, processed, animal, protei...</td>\n",
              "      <td>[(occurrence, NN), (potential, NN), (transfer,...</td>\n",
              "      <td>[(plant, NN), (ingredients, NNS), (processed, ...</td>\n",
              "      <td>[(occurrence, n), (potential, n), (transfer, n...</td>\n",
              "      <td>[(plant, n), (ingredients, n), (processed, v),...</td>\n",
              "    </tr>\n",
              "    <tr>\n",
              "      <th>525</th>\n",
              "      <td>Cellular responses of eastern oysters, Crassos...</td>\n",
              "      <td>Because of the continued development and produ...</td>\n",
              "      <td>[cellular, responses, of, eastern, oysters, ,,...</td>\n",
              "      <td>[because, of, the, continued, development, and...</td>\n",
              "      <td>[cellular, responses, eastern, oysters, crasso...</td>\n",
              "      <td>[continued, development, production, variety, ...</td>\n",
              "      <td>[(cellular, JJ), (responses, NNS), (eastern, J...</td>\n",
              "      <td>[(continued, JJ), (development, NN), (producti...</td>\n",
              "      <td>[(cellular, a), (responses, n), (eastern, a), ...</td>\n",
              "      <td>[(continued, a), (development, n), (production...</td>\n",
              "    </tr>\n",
              "    <tr>\n",
              "      <th>614</th>\n",
              "      <td>Research progress of chitosan and its derivati...</td>\n",
              "      <td>Recently, the problem of heavy metal pollution...</td>\n",
              "      <td>[research, progress, of, chitosan, and, its, d...</td>\n",
              "      <td>[recently, ,, the, problem, of, heavy, metal, ...</td>\n",
              "      <td>[research, progress, chitosan, derivatives, re...</td>\n",
              "      <td>[recently, problem, heavy, metal, pollution, a...</td>\n",
              "      <td>[(research, NN), (progress, NN), (chitosan, JJ...</td>\n",
              "      <td>[(recently, RB), (problem, NN), (heavy, JJ), (...</td>\n",
              "      <td>[(research, n), (progress, n), (chitosan, a), ...</td>\n",
              "      <td>[(recently, r), (problem, n), (heavy, a), (met...</td>\n",
              "    </tr>\n",
              "  </tbody>\n",
              "</table>\n",
              "</div>"
            ],
            "text/plain": [
              "                                                 Title  ...                                     wntag_abstract\n",
              "377  Piscine orthoreovirus (PRV) replicates in Atla...  ...  [(piscine, n), (orthoreovirus, n), (prv, n), (...\n",
              "172  Alphavirus capsid proteins self-assemble into ...  ...  [(mosquito-borne, a), (chikungunya, n), (virus...\n",
              "248  Occurrence and potential transfer of mycotoxin...  ...  [(plant, n), (ingredients, n), (processed, v),...\n",
              "525  Cellular responses of eastern oysters, Crassos...  ...  [(continued, a), (development, n), (production...\n",
              "614  Research progress of chitosan and its derivati...  ...  [(recently, r), (problem, n), (heavy, a), (met...\n",
              "\n",
              "[5 rows x 10 columns]"
            ]
          },
          "metadata": {
            "tags": []
          },
          "execution_count": 50
        }
      ]
    },
    {
      "cell_type": "code",
      "metadata": {
        "id": "considered-magic",
        "colab": {
          "base_uri": "https://localhost:8080/",
          "height": 206
        },
        "outputId": "400f1921-9266-44d4-dd31-86cc85ec8dec"
      },
      "source": [
        "#lemmatize with wordnet\n",
        "from nltk.stem import WordNetLemmatizer \n",
        "lemmatizer = WordNetLemmatizer()\n",
        "\n",
        "def lemmatize(tuple_list):\n",
        "    return [lemmatizer.lemmatize(word, tag) for (word, tag) in tuple_list]\n",
        "\n",
        "X[\"lem_title\"] = X[\"wntag_title\"].apply(lemmatize)\n",
        "X[\"lem_abstract\"] = X[\"wntag_abstract\"].apply(lemmatize)\n",
        "\n",
        "X_test[\"lem_title\"] = X_test[\"wntag_title\"].apply(lemmatize)\n",
        "X_test[\"lem_abstract\"] = X_test[\"wntag_abstract\"].apply(lemmatize)\n",
        "\n",
        "cleaned_text = pd.DataFrame(data=X[[\"lem_title\", \"lem_abstract\"]], index = X.index)\n",
        "cleaned_text = cleaned_text.rename(columns={\"lem_title\":\"title\", \"lem_abstract\": \"abstract\"})\n",
        "\n",
        "cleaned_text_test = pd.DataFrame(data=X_test[[\"lem_title\", \"lem_abstract\"]], index = X_test.index)\n",
        "cleaned_text_test = cleaned_text_test.rename(columns={\"lem_title\":\"title\", \"lem_abstract\": \"abstract\"})\n",
        "\n",
        "cleaned_text.head()"
      ],
      "id": "considered-magic",
      "execution_count": 51,
      "outputs": [
        {
          "output_type": "execute_result",
          "data": {
            "text/html": [
              "<div>\n",
              "<style scoped>\n",
              "    .dataframe tbody tr th:only-of-type {\n",
              "        vertical-align: middle;\n",
              "    }\n",
              "\n",
              "    .dataframe tbody tr th {\n",
              "        vertical-align: top;\n",
              "    }\n",
              "\n",
              "    .dataframe thead th {\n",
              "        text-align: right;\n",
              "    }\n",
              "</style>\n",
              "<table border=\"1\" class=\"dataframe\">\n",
              "  <thead>\n",
              "    <tr style=\"text-align: right;\">\n",
              "      <th></th>\n",
              "      <th>title</th>\n",
              "      <th>abstract</th>\n",
              "    </tr>\n",
              "  </thead>\n",
              "  <tbody>\n",
              "    <tr>\n",
              "      <th>377</th>\n",
              "      <td>[piscine, orthoreovirus, prv, replicate, atlan...</td>\n",
              "      <td>[piscine, orthoreovirus, prv, reovirus, predom...</td>\n",
              "    </tr>\n",
              "    <tr>\n",
              "      <th>172</th>\n",
              "      <td>[alphavirus, capsid, proteins, self-assemble, ...</td>\n",
              "      <td>[mosquito-borne, chikungunya, virus, chikv, ca...</td>\n",
              "    </tr>\n",
              "    <tr>\n",
              "      <th>248</th>\n",
              "      <td>[occurrence, potential, transfer, mycotoxins, ...</td>\n",
              "      <td>[plant, ingredient, process, animal, protein, ...</td>\n",
              "    </tr>\n",
              "    <tr>\n",
              "      <th>525</th>\n",
              "      <td>[cellular, response, eastern, oyster, crassost...</td>\n",
              "      <td>[continued, development, production, variety, ...</td>\n",
              "    </tr>\n",
              "    <tr>\n",
              "      <th>614</th>\n",
              "      <td>[research, progress, chitosan, derivative, rem...</td>\n",
              "      <td>[recently, problem, heavy, metal, pollution, a...</td>\n",
              "    </tr>\n",
              "  </tbody>\n",
              "</table>\n",
              "</div>"
            ],
            "text/plain": [
              "                                                 title                                           abstract\n",
              "377  [piscine, orthoreovirus, prv, replicate, atlan...  [piscine, orthoreovirus, prv, reovirus, predom...\n",
              "172  [alphavirus, capsid, proteins, self-assemble, ...  [mosquito-borne, chikungunya, virus, chikv, ca...\n",
              "248  [occurrence, potential, transfer, mycotoxins, ...  [plant, ingredient, process, animal, protein, ...\n",
              "525  [cellular, response, eastern, oyster, crassost...  [continued, development, production, variety, ...\n",
              "614  [research, progress, chitosan, derivative, rem...  [recently, problem, heavy, metal, pollution, a..."
            ]
          },
          "metadata": {
            "tags": []
          },
          "execution_count": 51
        }
      ]
    },
    {
      "cell_type": "code",
      "metadata": {
        "colab": {
          "base_uri": "https://localhost:8080/",
          "height": 206
        },
        "id": "OJ1U6q6aZj7g",
        "outputId": "0fa83928-b8a6-4a69-a1da-f9df4c437290"
      },
      "source": [
        "# connect lists back into strings\n",
        "def list_to_string (str_list):\n",
        "  return \" \".join(str_list)\n",
        "cleaned_text[\"abs_str\"] = cleaned_text[\"abstract\"].apply(list_to_string)\n",
        "cleaned_text[\"tit_str\"] = cleaned_text[\"title\"].apply(list_to_string)\n",
        "\n",
        "cleaned_text_test[\"abs_str\"] = cleaned_text_test[\"abstract\"].apply(list_to_string)\n",
        "cleaned_text_test[\"tit_str\"] = cleaned_text_test[\"title\"].apply(list_to_string)\n",
        "\n",
        "cleaned_text = cleaned_text.drop(labels = [\"abstract\", \"title\"], axis=1)\n",
        "cleaned_text_test = cleaned_text_test.drop(labels = [\"abstract\", \"title\"], axis=1)\n",
        "\n",
        "print(cleaned_text.head())\n"
      ],
      "id": "OJ1U6q6aZj7g",
      "execution_count": 52,
      "outputs": [
        {
          "output_type": "execute_result",
          "data": {
            "text/html": [
              "<div>\n",
              "<style scoped>\n",
              "    .dataframe tbody tr th:only-of-type {\n",
              "        vertical-align: middle;\n",
              "    }\n",
              "\n",
              "    .dataframe tbody tr th {\n",
              "        vertical-align: top;\n",
              "    }\n",
              "\n",
              "    .dataframe thead th {\n",
              "        text-align: right;\n",
              "    }\n",
              "</style>\n",
              "<table border=\"1\" class=\"dataframe\">\n",
              "  <thead>\n",
              "    <tr style=\"text-align: right;\">\n",
              "      <th></th>\n",
              "      <th>abs_str</th>\n",
              "      <th>tit_str</th>\n",
              "    </tr>\n",
              "  </thead>\n",
              "  <tbody>\n",
              "    <tr>\n",
              "      <th>377</th>\n",
              "      <td>piscine orthoreovirus prv reovirus predominant...</td>\n",
              "      <td>piscine orthoreovirus prv replicate atlantic s...</td>\n",
              "    </tr>\n",
              "    <tr>\n",
              "      <th>172</th>\n",
              "      <td>mosquito-borne chikungunya virus chikv cause a...</td>\n",
              "      <td>alphavirus capsid proteins self-assemble core-...</td>\n",
              "    </tr>\n",
              "    <tr>\n",
              "      <th>248</th>\n",
              "      <td>plant ingredient process animal protein pap su...</td>\n",
              "      <td>occurrence potential transfer mycotoxins gilth...</td>\n",
              "    </tr>\n",
              "    <tr>\n",
              "      <th>525</th>\n",
              "      <td>continued development production variety nanom...</td>\n",
              "      <td>cellular response eastern oyster crassostrea v...</td>\n",
              "    </tr>\n",
              "    <tr>\n",
              "      <th>614</th>\n",
              "      <td>recently problem heavy metal pollution attract...</td>\n",
              "      <td>research progress chitosan derivative removal ...</td>\n",
              "    </tr>\n",
              "  </tbody>\n",
              "</table>\n",
              "</div>"
            ],
            "text/plain": [
              "                                               abs_str                                            tit_str\n",
              "377  piscine orthoreovirus prv reovirus predominant...  piscine orthoreovirus prv replicate atlantic s...\n",
              "172  mosquito-borne chikungunya virus chikv cause a...  alphavirus capsid proteins self-assemble core-...\n",
              "248  plant ingredient process animal protein pap su...  occurrence potential transfer mycotoxins gilth...\n",
              "525  continued development production variety nanom...  cellular response eastern oyster crassostrea v...\n",
              "614  recently problem heavy metal pollution attract...  research progress chitosan derivative removal ..."
            ]
          },
          "metadata": {
            "tags": []
          },
          "execution_count": 52
        }
      ]
    },
    {
      "cell_type": "code",
      "metadata": {
        "id": "ZntN-a_IfM4X"
      },
      "source": [
        "pd.concat([cleaned_text, y], axis=1).to_csv(\"drive/MyDrive/Data/refsa-sample-data/cleaned/cleaned_train_ERIS.csv\")\n",
        "pd.concat([cleaned_text_test, y_test], axis=1).to_csv(\"drive/MyDrive/Data/refsa-sample-data/cleaned/cleaned_test_ERIS.csv\")"
      ],
      "id": "ZntN-a_IfM4X",
      "execution_count": 71,
      "outputs": []
    },
    {
      "cell_type": "markdown",
      "metadata": {
        "id": "unsigned-headline"
      },
      "source": [
        "Exploratory Data Analysis\n",
        "==="
      ],
      "id": "unsigned-headline"
    },
    {
      "cell_type": "code",
      "metadata": {
        "id": "missing-cradle"
      },
      "source": [
        ""
      ],
      "id": "missing-cradle",
      "execution_count": 52,
      "outputs": []
    },
    {
      "cell_type": "code",
      "metadata": {
        "id": "domestic-motion"
      },
      "source": [
        ""
      ],
      "id": "domestic-motion",
      "execution_count": 52,
      "outputs": []
    },
    {
      "cell_type": "code",
      "metadata": {
        "id": "expressed-channel"
      },
      "source": [
        ""
      ],
      "id": "expressed-channel",
      "execution_count": 52,
      "outputs": []
    },
    {
      "cell_type": "markdown",
      "metadata": {
        "id": "undefined-interstate"
      },
      "source": [
        "Classification\n",
        "===\n"
      ],
      "id": "undefined-interstate"
    },
    {
      "cell_type": "code",
      "metadata": {
        "id": "broke-helping",
        "colab": {
          "base_uri": "https://localhost:8080/"
        },
        "outputId": "0c34a90c-96e3-4b9b-a47c-e7cc15001387"
      },
      "source": [
        "#baseline classifier - always return majority class\n",
        "class BaselineClassifier:\n",
        "    def __init__(self):\n",
        "        self.majority_class = np.NaN\n",
        "        \n",
        "    def fit(self, x, y):\n",
        "        self.majority_class = y.value_counts()[:1].index.to_list()[0]\n",
        "        return\n",
        "    def predict(self, x):\n",
        "        return pd.Series(np.ones((x.shape[0],)) * self.majority_class, index = x.index)\n",
        "    \n",
        "    def score(self, x, y):\n",
        "        p = self.predict(x)\n",
        "        comp = y==p\n",
        "        return len(comp[comp==True])/len(comp)\n",
        "        \n",
        "        \n",
        "baseline = BaselineClassifier()\n",
        "baseline.fit(X,y)\n",
        "pred = baseline.predict(X_test)\n",
        "score = baseline.score(X_test, y_test)\n",
        "print(f'Baseline classifier\\'s accuracy (always returns majority class): {score}')"
      ],
      "id": "broke-helping",
      "execution_count": 53,
      "outputs": [
        {
          "output_type": "stream",
          "text": [
            "Baseline classifier's accuracy (always returns majority class): 0.8484848484848485\n"
          ],
          "name": "stdout"
        }
      ]
    },
    {
      "cell_type": "markdown",
      "metadata": {
        "id": "dominican-confidence"
      },
      "source": [
        "**Baseline classifier** achieves expected accuracy -  84,84% which corresponds to how many of training examples are of majority class. "
      ],
      "id": "dominican-confidence"
    },
    {
      "cell_type": "code",
      "metadata": {
        "scrolled": true,
        "id": "geological-suggestion",
        "colab": {
          "base_uri": "https://localhost:8080/"
        },
        "outputId": "62d6f27e-1155-47b8-9408-62e01ff70851"
      },
      "source": [
        "from sklearn.feature_extraction.text import CountVectorizer\n",
        "\n",
        "#preprocess train data\n",
        "vectorizerAb = CountVectorizer()\n",
        "vectorizerTit = CountVectorizer()\n",
        "\n",
        "preprocessedAbstract = vectorizerAb.fit_transform(cleaned_text[\"abs_str\"].values)\n",
        "abstracts = pd.DataFrame(data=preprocessedAbstract.toarray(), index=cleaned_text.index)\n",
        "\n",
        "preprocessedTitle = vectorizerTit.fit_transform(cleaned_text[\"tit_str\"].values)\n",
        "titles = pd.DataFrame(data=preprocessedTitle.toarray(), index=cleaned_text.index)\n",
        "\n",
        "x_train = pd.concat([abstracts, titles], axis=1)\n",
        "print(x_train.shape, y.shape, titles.shape, abstracts.shape)\n",
        "\n",
        "print(X_test.head())\n",
        "print(x_train.head())"
      ],
      "id": "geological-suggestion",
      "execution_count": 63,
      "outputs": [
        {
          "output_type": "stream",
          "text": [
            "(527, 11763) (527,) (527, 2308) (527, 9455)\n",
            "                                                 Title  ...                                       lem_abstract\n",
            "374  First in-depth analysis of the novel Th2-type ...  ...  [il-4, il-13, closely, related, canonical, typ...\n",
            "304  Dai Nippon Printing Co., Ltd Medi.Ca CC for En...  ...  [ready-made, dry, medium, method, coliform, co...\n",
            "247  Investigation of pharmaceuticals in processed ...  ...  [on-going, trend, develop, sustainable, salmon...\n",
            "125  Molecular characterisation and functional anal...  ...  [salmon, louse, lepeophtheirus, salmonis, spp,...\n",
            "100  The use of food waste-based diets and Napier g...  ...  [present, study, use, commercial, feed, food, ...\n",
            "\n",
            "[5 rows x 12 columns]\n",
            "     0     1     2     3     4     5     ...  2302  2303  2304  2305  2306  2307\n",
            "377     0     0     0     0     0     0  ...     0     0     0     0     0     0\n",
            "172     0     0     0     0     0     0  ...     0     0     0     0     0     0\n",
            "248     0     0     0     0     0     0  ...     0     0     0     0     0     0\n",
            "525     0     0     0     0     0     0  ...     0     0     0     0     0     0\n",
            "614     0     0     0     0     0     0  ...     0     0     0     0     0     0\n",
            "\n",
            "[5 rows x 11763 columns]\n"
          ],
          "name": "stdout"
        }
      ]
    },
    {
      "cell_type": "code",
      "metadata": {
        "id": "structured-fiction",
        "colab": {
          "base_uri": "https://localhost:8080/"
        },
        "outputId": "9e1e9140-ba6e-461a-f2ca-c80df133b9a5"
      },
      "source": [
        "#preprocess test data\n",
        "abstracts_test = vectorizerAb.transform(cleaned_text_test[\"abs_str\"].values)\n",
        "titles_test = vectorizerTit.transform(cleaned_text_test[\"tit_str\"].values)\n",
        "\n",
        "prep_ab = pd.DataFrame(data=abstracts_test.toarray(), index = cleaned_text_test.index)\n",
        "prep_tit = pd.DataFrame(data=titles_test.toarray(), index=cleaned_text_test.index)\n",
        "\n",
        "x_test = pd.concat([prep_ab, prep_tit],axis=1)\n",
        "print(x_test.shape, prep_tit.shape, prep_ab.shape)"
      ],
      "id": "structured-fiction",
      "execution_count": 64,
      "outputs": [
        {
          "output_type": "stream",
          "text": [
            "(132, 11763) (132, 2308) (132, 9455)\n"
          ],
          "name": "stdout"
        }
      ]
    },
    {
      "cell_type": "code",
      "metadata": {
        "id": "manufactured-binary",
        "colab": {
          "base_uri": "https://localhost:8080/"
        },
        "outputId": "d0b6017d-7463-4d71-f26c-a1473d4e4588"
      },
      "source": [
        "from sklearn.linear_model import LogisticRegressionCV\n",
        "scores = {}\n",
        "\n",
        "logistic = LogisticRegressionCV()\n",
        "logistic.fit(x_train, y)\n",
        "score_logistic = logistic.score(x_test, y_test)\n",
        "print(f'Accuracy for Logistic Regression Classifier with CountVectorization - {score_logistic}')"
      ],
      "id": "manufactured-binary",
      "execution_count": 65,
      "outputs": [
        {
          "output_type": "stream",
          "text": [
            "Accuracy for Logistic Regression Classifier with CountVectorization - 0.8181818181818182\n"
          ],
          "name": "stdout"
        }
      ]
    },
    {
      "cell_type": "code",
      "metadata": {
        "id": "functioning-clothing",
        "colab": {
          "base_uri": "https://localhost:8080/"
        },
        "outputId": "258c9ec1-d223-4292-d0de-361f1d4d2ecb"
      },
      "source": [
        "from sklearn.svm import LinearSVC\n",
        "linearSVC = LinearSVC()\n",
        "linearSVC.fit(x_train, y)\n",
        "score_lSVC = linearSVC.score(x_test, y_test)\n",
        "print(f'Accuracy for SupportVectorClassifier with CountVectorization - {score_lSVC}')"
      ],
      "id": "functioning-clothing",
      "execution_count": 66,
      "outputs": [
        {
          "output_type": "stream",
          "text": [
            "Accuracy for SupportVectorClassifier with CountVectorization - 0.7954545454545454\n"
          ],
          "name": "stdout"
        }
      ]
    },
    {
      "cell_type": "code",
      "metadata": {
        "id": "strong-employment",
        "colab": {
          "base_uri": "https://localhost:8080/"
        },
        "outputId": "7673d819-4888-481b-8bb8-913498fdc7c2"
      },
      "source": [
        "from sklearn.ensemble import AdaBoostClassifier, RandomForestClassifier\n",
        "from sklearn.tree import DecisionTreeClassifier\n",
        "\n",
        "tree = DecisionTreeClassifier()\n",
        "tree.fit(x_train, y)\n",
        "score_tree = tree.score(x_test, y_test)\n",
        "print(f'Accuracy for DecisionTreeClassifier with CountVectorization - {score_tree}')\n",
        "\n",
        "\n",
        "\n",
        "forest = RandomForestClassifier()\n",
        "forest.fit(x_train, y)\n",
        "score_forest = forest.score(x_test, y_test)\n",
        "print(f'Accuracy for RandomForestClassifier with CountVectorization - {score_forest}')\n",
        "\n",
        "\n",
        "\n",
        "ada_boost = AdaBoostClassifier()\n",
        "ada_boost.fit(x_train, y)\n",
        "score_ada = ada_boost.score(x_test, y_test)\n",
        "print(f'Accuracy for Tree-based AdaBoost with CountVectorization - {score_ada}')"
      ],
      "id": "strong-employment",
      "execution_count": 67,
      "outputs": [
        {
          "output_type": "stream",
          "text": [
            "Accuracy for DecisionTreeClassifier with CountVectorization - 0.75\n",
            "Accuracy for RandomForestClassifier with CountVectorization - 0.8484848484848485\n",
            "Accuracy for Tree-based AdaBoost with CountVectorization - 0.8257575757575758\n"
          ],
          "name": "stdout"
        }
      ]
    },
    {
      "cell_type": "markdown",
      "metadata": {
        "id": "QmsZx9ZOctqk"
      },
      "source": [
        "**Try 1**\n",
        "\n",
        "All of the classifiers performed not better than the baseline classifier (accuracy of 84,85%). This is a disapointing but fully predictable result that is probably caused by the class imbalance."
      ],
      "id": "QmsZx9ZOctqk"
    },
    {
      "cell_type": "markdown",
      "metadata": {
        "id": "g3DFe9dsdNpL"
      },
      "source": [
        "Error analysis\n",
        "====\n",
        "Let's see what are the mistakes made by the new classifiers, based on results of Random Forest classification"
      ],
      "id": "g3DFe9dsdNpL"
    },
    {
      "cell_type": "code",
      "metadata": {
        "id": "creative-discipline"
      },
      "source": [
        ""
      ],
      "id": "creative-discipline",
      "execution_count": null,
      "outputs": []
    }
  ]
}